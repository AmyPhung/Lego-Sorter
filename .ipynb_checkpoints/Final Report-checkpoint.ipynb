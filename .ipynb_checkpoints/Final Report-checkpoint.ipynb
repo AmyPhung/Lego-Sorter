{
 "cells": [
  {
   "cell_type": "markdown",
   "metadata": {
    "colab_type": "text",
    "id": "CALJMBGDyMzY"
   },
   "source": [
    "# Lego Sorting\n",
    "By Amy Phung and Case Zito\n",
    "\n",
    "In this project, we wanted to explore the possibility of sorting legos by size using machine learning on images of Legos. To simplify our model, we focused on classifying legos by size (EX: 2x1). Our goal was to be accurate in classifying legos from our dataset, and be able to classify random legos from the outside world."
   ]
  },
  {
   "cell_type": "markdown",
   "metadata": {
    "colab_type": "text",
    "id": "EjUPZeFWx9Fz"
   },
   "source": [
    "## Background\n",
    "<!-- TODO: Case -->"
   ]
  },
  {
   "cell_type": "markdown",
   "metadata": {
    "colab_type": "text",
    "id": "docx6Zip-cxa"
   },
   "source": [
    "<!-- data we had, what the algortihm would need, how it could be tested, implications, stakeholders, process, method -->\n",
    "**Dataset:** \n",
    "To get the training and validation dataset for legos, we used this kaggle dataset: https://www.kaggle.com/pacogarciam3/lego-vs-generic-brick-image-recognition\n",
    "\n",
    "The kaggle dataset has base and cropped images of legos with 6 different brick types (sizes) and 2 different brands (brick or lego). It gives an image key that gives a file name and classifies its brand, type, and what data set its from.\n",
    "\n",
    "**Algorithm:**\n",
    "We decided to use a convolutional neural net to classify cropped images of legos as their size. After training the convolutional neural net on the training set, we wanted to test the accuracy on the test set, and then test its accuracy on outside images of legos.\n",
    "\n",
    "**Implications and Stakeholders:**\n",
    "From research and conversations, we learned that lego bricks are often resold once reused for a very low price and usually by the pound. These legos sell for more if they are sorted, and some people sort them by hand to make a small profit on them. A possibility for this lego sort algorithm would be to make a sorter using a camera and something to separate them out brick by brick so they could be classified one by one. It would take some amount of engineering background and ability to put a camera and this algorithm together, so not everyone would be able to access this. This makes possible stakeholders need a base level of technical knowledge and money in order to use it.\n",
    "\n",
    "One implication given these stakeholders would be that people who cannot use the software and sort by hand would be slower. If a person used our software and scaled it up to a large amount of legos, they could take those money away from people who are poorer or less engineering educated. This is a possible concern we would have for this algorithm, though on the other side it would mean less time and effort needed to sort legos.\n",
    "\n",
    "**Process:**\n",
    "To create our algorithm, we decided to use pytorch for convolutional neural nets (CNN). We saw some past projects that used pytorch for image classification successfully. The python library pytorch has in built features such as torchvision datasets, which put files into an easy to use python class. It also has tensors for holding lists of pixel values and built in layers that can be called for a CNN.  "
   ]
  },
  {
   "cell_type": "markdown",
   "metadata": {
    "colab_type": "text",
    "id": "SXp_WUNI6d8P"
   },
   "source": [
    "## Set-up:"
   ]
  },
  {
   "cell_type": "markdown",
   "metadata": {
    "colab_type": "text",
    "id": "_SCa6XQd7KEa"
   },
   "source": [
    "### **Imports:**"
   ]
  },
  {
   "cell_type": "code",
   "execution_count": 3,
   "metadata": {
    "colab": {
     "base_uri": "https://localhost:8080/",
     "height": 238
    },
    "colab_type": "code",
    "executionInfo": {
     "elapsed": 10874,
     "status": "ok",
     "timestamp": 1571274176091,
     "user": {
      "displayName": "Amy Phung",
      "photoUrl": "https://lh3.googleusercontent.com/a-/AAuE7mCX6yorBpSgkuKhPzFyyI9cUbE9dYYI5AgWp4ciUQ=s64",
      "userId": "07860558739608806016"
     },
     "user_tz": 240
    },
    "id": "r57s2uRu6gVP",
    "outputId": "e0772adf-e558-4f05-b023-aae1e197ca4a"
   },
   "outputs": [
    {
     "name": "stdout",
     "output_type": "stream",
     "text": [
      "Collecting gdown\n",
      "  Downloading https://files.pythonhosted.org/packages/b0/b4/a8e9d0b02bca6aa53087001abf064cc9992bda11bd6840875b8098d93573/gdown-3.8.3.tar.gz\n",
      "Collecting filelock (from gdown)\n",
      "  Downloading https://files.pythonhosted.org/packages/93/83/71a2ee6158bb9f39a90c0dea1637f81d5eef866e188e1971a1b1ab01a35a/filelock-3.0.12-py3-none-any.whl\n",
      "Requirement already satisfied: requests in c:\\programdata\\miniconda3\\lib\\site-packages (from gdown)\n",
      "Requirement already satisfied: six in c:\\programdata\\miniconda3\\lib\\site-packages (from gdown)\n",
      "Collecting tqdm (from gdown)\n",
      "  Downloading https://files.pythonhosted.org/packages/e1/c1/bc1dba38b48f4ae3c4428aea669c5e27bd5a7642a74c8348451e0bd8ff86/tqdm-4.36.1-py2.py3-none-any.whl (52kB)\n",
      "Building wheels for collected packages: gdown\n",
      "  Running setup.py bdist_wheel for gdown: started\n",
      "  Running setup.py bdist_wheel for gdown: finished with status 'done'\n",
      "  Stored in directory: C:\\Users\\aphung\\AppData\\Local\\pip\\Cache\\wheels\\a7\\9d\\16\\9e0bda9a327ff2cddaee8de48a27553fb1efce73133593d066\n",
      "Successfully built gdown\n",
      "Installing collected packages: filelock, tqdm, gdown\n",
      "Successfully installed filelock-3.0.12 gdown-3.8.3 tqdm-4.36.1\n"
     ]
    },
    {
     "name": "stderr",
     "output_type": "stream",
     "text": [
      "You are using pip version 9.0.1, however version 19.3 is available.\n",
      "You should consider upgrading via the 'python -m pip install --upgrade pip' command.\n"
     ]
    },
    {
     "name": "stdout",
     "output_type": "stream",
     "text": [
      "Collecting torchviz\n",
      "  Downloading https://files.pythonhosted.org/packages/8f/8e/a9630c7786b846d08b47714dd363a051f5e37b4ea0e534460d8cdfc1644b/torchviz-0.0.1.tar.gz (41kB)\n",
      "Collecting torch (from torchviz)\n",
      "  Downloading https://files.pythonhosted.org/packages/f8/02/880b468bd382dc79896eaecbeb8ce95e9c4b99a24902874a2cef0b562cea/torch-0.1.2.post2.tar.gz (128kB)\n",
      "Collecting graphviz (from torchviz)\n",
      "  Downloading https://files.pythonhosted.org/packages/94/cd/7b37f2b658995033879719e1ea4c9f171bf7a14c16b79220bd19f9eda3fe/graphviz-0.13-py2.py3-none-any.whl\n",
      "Collecting pyyaml (from torch->torchviz)\n",
      "  Downloading https://files.pythonhosted.org/packages/76/da/60f8d638d81d64db4ed3c279c22eb3a1eebfcde6130fee678940e603b930/PyYAML-5.1.2-cp36-cp36m-win_amd64.whl (214kB)\n",
      "Building wheels for collected packages: torchviz, torch\n",
      "  Running setup.py bdist_wheel for torchviz: started\n",
      "  Running setup.py bdist_wheel for torchviz: finished with status 'done'\n",
      "  Stored in directory: C:\\Users\\aphung\\AppData\\Local\\pip\\Cache\\wheels\\2a\\c2\\c5\\b8b4d0f7992c735f6db5bfa3c5f354cf36502037ca2b585667\n",
      "  Running setup.py bdist_wheel for torch: started\n",
      "  Running setup.py bdist_wheel for torch: finished with status 'error'\n",
      "  Complete output from command C:\\ProgramData\\Miniconda3\\python.exe -u -c \"import setuptools, tokenize;__file__='C:\\\\Users\\\\aphung\\\\AppData\\\\Local\\\\Temp\\\\pip-build-sfpex1xe\\\\torch\\\\setup.py';f=getattr(tokenize, 'open', open)(__file__);code=f.read().replace('\\r\\n', '\\n');f.close();exec(compile(code, __file__, 'exec'))\" bdist_wheel -d C:\\Users\\aphung\\AppData\\Local\\Temp\\tmpa16uomrtpip-wheel- --python-tag cp36:\n",
      "  running bdist_wheel\n",
      "  running build\n",
      "  running build_deps\n",
      "  Traceback (most recent call last):\n",
      "    File \"<string>\", line 1, in <module>\n",
      "    File \"C:\\Users\\aphung\\AppData\\Local\\Temp\\pip-build-sfpex1xe\\torch\\setup.py\", line 265, in <module>\n",
      "      description=\"Tensors and Dynamic neural networks in Python with strong GPU acceleration\",\n",
      "    File \"C:\\ProgramData\\Miniconda3\\lib\\distutils\\core.py\", line 148, in setup\n",
      "      dist.run_commands()\n",
      "    File \"C:\\ProgramData\\Miniconda3\\lib\\distutils\\dist.py\", line 955, in run_commands\n",
      "      self.run_command(cmd)\n",
      "    File \"C:\\ProgramData\\Miniconda3\\lib\\distutils\\dist.py\", line 974, in run_command\n",
      "      cmd_obj.run()\n",
      "    File \"C:\\ProgramData\\Miniconda3\\lib\\site-packages\\wheel\\bdist_wheel.py\", line 179, in run\n",
      "      self.run_command('build')\n",
      "    File \"C:\\ProgramData\\Miniconda3\\lib\\distutils\\cmd.py\", line 313, in run_command\n",
      "      self.distribution.run_command(command)\n",
      "    File \"C:\\ProgramData\\Miniconda3\\lib\\distutils\\dist.py\", line 974, in run_command\n",
      "      cmd_obj.run()\n",
      "    File \"C:\\ProgramData\\Miniconda3\\lib\\distutils\\command\\build.py\", line 135, in run\n",
      "      self.run_command(cmd_name)\n",
      "    File \"C:\\ProgramData\\Miniconda3\\lib\\distutils\\cmd.py\", line 313, in run_command\n",
      "      self.distribution.run_command(command)\n",
      "    File \"C:\\ProgramData\\Miniconda3\\lib\\distutils\\dist.py\", line 974, in run_command\n",
      "      cmd_obj.run()\n",
      "    File \"C:\\Users\\aphung\\AppData\\Local\\Temp\\pip-build-sfpex1xe\\torch\\setup.py\", line 51, in run\n",
      "      from tools.nnwrap import generate_wrappers as generate_nn_wrappers\n",
      "  ModuleNotFoundError: No module named 'tools.nnwrap'\n",
      "  \n",
      "  ----------------------------------------\n",
      "  Running setup.py clean for torch\n",
      "  Complete output from command C:\\ProgramData\\Miniconda3\\python.exe -u -c \"import setuptools, tokenize;__file__='C:\\\\Users\\\\aphung\\\\AppData\\\\Local\\\\Temp\\\\pip-build-sfpex1xe\\\\torch\\\\setup.py';f=getattr(tokenize, 'open', open)(__file__);code=f.read().replace('\\r\\n', '\\n');f.close();exec(compile(code, __file__, 'exec'))\" clean --all:\n",
      "  running clean\n",
      "  error: [Errno 2] No such file or directory: '.gitignore'\n",
      "  \n",
      "  ----------------------------------------\n",
      "Successfully built torchviz\n",
      "Failed to build torch\n",
      "Installing collected packages: pyyaml, torch, graphviz, torchviz\n",
      "  Running setup.py install for torch: started\n",
      "    Running setup.py install for torch: finished with status 'error'\n",
      "    Complete output from command C:\\ProgramData\\Miniconda3\\python.exe -u -c \"import setuptools, tokenize;__file__='C:\\\\Users\\\\aphung\\\\AppData\\\\Local\\\\Temp\\\\pip-build-sfpex1xe\\\\torch\\\\setup.py';f=getattr(tokenize, 'open', open)(__file__);code=f.read().replace('\\r\\n', '\\n');f.close();exec(compile(code, __file__, 'exec'))\" install --record C:\\Users\\aphung\\AppData\\Local\\Temp\\pip-93dq4y6p-record\\install-record.txt --single-version-externally-managed --compile:\n",
      "    running install\n",
      "    running build_deps\n",
      "    Traceback (most recent call last):\n",
      "      File \"<string>\", line 1, in <module>\n",
      "      File \"C:\\Users\\aphung\\AppData\\Local\\Temp\\pip-build-sfpex1xe\\torch\\setup.py\", line 265, in <module>\n",
      "        description=\"Tensors and Dynamic neural networks in Python with strong GPU acceleration\",\n",
      "      File \"C:\\ProgramData\\Miniconda3\\lib\\distutils\\core.py\", line 148, in setup\n",
      "        dist.run_commands()\n",
      "      File \"C:\\ProgramData\\Miniconda3\\lib\\distutils\\dist.py\", line 955, in run_commands\n",
      "        self.run_command(cmd)\n",
      "      File \"C:\\ProgramData\\Miniconda3\\lib\\distutils\\dist.py\", line 974, in run_command\n",
      "        cmd_obj.run()\n",
      "      File \"C:\\Users\\aphung\\AppData\\Local\\Temp\\pip-build-sfpex1xe\\torch\\setup.py\", line 99, in run\n",
      "        self.run_command('build_deps')\n",
      "      File \"C:\\ProgramData\\Miniconda3\\lib\\distutils\\cmd.py\", line 313, in run_command\n",
      "        self.distribution.run_command(command)\n",
      "      File \"C:\\ProgramData\\Miniconda3\\lib\\distutils\\dist.py\", line 974, in run_command\n",
      "        cmd_obj.run()\n",
      "      File \"C:\\Users\\aphung\\AppData\\Local\\Temp\\pip-build-sfpex1xe\\torch\\setup.py\", line 51, in run\n",
      "        from tools.nnwrap import generate_wrappers as generate_nn_wrappers\n",
      "    ModuleNotFoundError: No module named 'tools.nnwrap'\n",
      "    \n",
      "    ----------------------------------------\n"
     ]
    },
    {
     "name": "stderr",
     "output_type": "stream",
     "text": [
      "  Failed building wheel for torch\n",
      "  Failed cleaning build dir for torch\n",
      "Command \"C:\\ProgramData\\Miniconda3\\python.exe -u -c \"import setuptools, tokenize;__file__='C:\\\\Users\\\\aphung\\\\AppData\\\\Local\\\\Temp\\\\pip-build-sfpex1xe\\\\torch\\\\setup.py';f=getattr(tokenize, 'open', open)(__file__);code=f.read().replace('\\r\\n', '\\n');f.close();exec(compile(code, __file__, 'exec'))\" install --record C:\\Users\\aphung\\AppData\\Local\\Temp\\pip-93dq4y6p-record\\install-record.txt --single-version-externally-managed --compile\" failed with error code 1 in C:\\Users\\aphung\\AppData\\Local\\Temp\\pip-build-sfpex1xe\\torch\\\n",
      "You are using pip version 9.0.1, however version 19.3 is available.\n",
      "You should consider upgrading via the 'python -m pip install --upgrade pip' command.\n"
     ]
    },
    {
     "ename": "ModuleNotFoundError",
     "evalue": "No module named 'torch'",
     "output_type": "error",
     "traceback": [
      "\u001b[1;31m---------------------------------------------------------------------------\u001b[0m",
      "\u001b[1;31mModuleNotFoundError\u001b[0m                       Traceback (most recent call last)",
      "\u001b[1;32m<ipython-input-3-47a8095e6d5b>\u001b[0m in \u001b[0;36m<module>\u001b[1;34m()\u001b[0m\n\u001b[0;32m      4\u001b[0m \u001b[1;32mimport\u001b[0m \u001b[0mgdown\u001b[0m\u001b[1;33m\u001b[0m\u001b[0m\n\u001b[0;32m      5\u001b[0m \u001b[1;32mimport\u001b[0m \u001b[0mpandas\u001b[0m \u001b[1;32mas\u001b[0m \u001b[0mpd\u001b[0m\u001b[1;33m\u001b[0m\u001b[0m\n\u001b[1;32m----> 6\u001b[1;33m \u001b[1;32mfrom\u001b[0m \u001b[0mtorch\u001b[0m\u001b[1;33m.\u001b[0m\u001b[0mutils\u001b[0m\u001b[1;33m.\u001b[0m\u001b[0mdata\u001b[0m\u001b[1;33m.\u001b[0m\u001b[0msampler\u001b[0m \u001b[1;32mimport\u001b[0m \u001b[0mSubsetRandomSampler\u001b[0m\u001b[1;33m\u001b[0m\u001b[0m\n\u001b[0m\u001b[0;32m      7\u001b[0m \u001b[1;32mfrom\u001b[0m \u001b[0mtorch\u001b[0m\u001b[1;33m.\u001b[0m\u001b[0mautograd\u001b[0m \u001b[1;32mimport\u001b[0m \u001b[0mVariable\u001b[0m\u001b[1;33m\u001b[0m\u001b[0m\n\u001b[0;32m      8\u001b[0m \u001b[1;32mfrom\u001b[0m \u001b[0mtorchviz\u001b[0m \u001b[1;32mimport\u001b[0m \u001b[0mmake_dot\u001b[0m\u001b[1;33m\u001b[0m\u001b[0m\n",
      "\u001b[1;31mModuleNotFoundError\u001b[0m: No module named 'torch'"
     ]
    }
   ],
   "source": [
    "!pip install gdown\n",
    "!pip install torchviz\n",
    "\n",
    "import gdown\n",
    "import pandas as pd\n",
    "from torch.utils.data.sampler import SubsetRandomSampler\n",
    "from torch.autograd import Variable\n",
    "from torchviz import make_dot\n",
    "import torch\n",
    "import torch.nn as nn\n",
    "import torchvision\n",
    "from torchvision.datasets import VisionDataset\n",
    "import torchvision.transforms as transforms\n",
    "import torch.optim as optim\n",
    "import cv2\n",
    "from PIL import Image\n",
    "\n",
    "from glob import glob\n",
    "from imageio import imread\n",
    "import matplotlib.pyplot as plt\n",
    "import numpy as np # we always love numpy\n",
    "import time\n",
    "from google.colab.patches import cv2_imshow"
   ]
  },
  {
   "cell_type": "markdown",
   "metadata": {
    "colab_type": "text",
    "id": "S491CjiR7Ow4"
   },
   "source": [
    "### **Image and key loading:**"
   ]
  },
  {
   "cell_type": "code",
   "execution_count": null,
   "metadata": {
    "colab": {
     "base_uri": "https://localhost:8080/",
     "height": 221
    },
    "colab_type": "code",
    "executionInfo": {
     "elapsed": 30555,
     "status": "ok",
     "timestamp": 1571274195788,
     "user": {
      "displayName": "Amy Phung",
      "photoUrl": "https://lh3.googleusercontent.com/a-/AAuE7mCX6yorBpSgkuKhPzFyyI9cUbE9dYYI5AgWp4ciUQ=s64",
      "userId": "07860558739608806016"
     },
     "user_tz": 240
    },
    "id": "KThPr5OQ7Ma4",
    "outputId": "db682be8-ef86-44e3-defe-9a917ab54a29"
   },
   "outputs": [],
   "source": [
    "gdown.download('https://drive.google.com/uc?authuser=0&id=1Z_rAAy-3UCK3yy-c9_Mxnx7Z34oxGwNL&export=download', \n",
    "               'lego-vs-generic-brick-image-recognition.zip', False)\n",
    "gdown.download('https://drive.google.com/uc?authuser=0&id=1U1JpP4fH1NgsminyKKF9BDdKUumdGhB1&export=download',\n",
    "             'ImageKey.csv', False)\n",
    "gdown.download('https://drive.google.com/uc?authuser=0&id=1Ln4QzD_ZLSxjo-5SNpQEmI8WgcN9J9VK&export=download',\n",
    "             'EvaluationKey.csv', False)\n",
    "\n",
    "\n",
    "image_key = pd.read_csv('ImageKey.csv')\n",
    "evaluation_key = pd.read_csv('EvaluationKey.csv')"
   ]
  },
  {
   "cell_type": "code",
   "execution_count": 0,
   "metadata": {
    "colab": {},
    "colab_type": "code",
    "collapsed": true,
    "id": "w3ErHTdb7Xdg"
   },
   "outputs": [],
   "source": [
    "# Unzip datasets\n",
    "!unzip -qq -o lego-vs-generic-brick-image-recognition.zip\n",
    "# Unzip photo directories\n",
    "#!unzip -qq -o Base\\ Images.zip\n",
    "!unzip -qq -o Cropped\\ Images.zip"
   ]
  },
  {
   "cell_type": "markdown",
   "metadata": {
    "colab_type": "text",
    "id": "J9z__2ZdzsEG"
   },
   "source": [
    "## Dataset\n"
   ]
  },
  {
   "cell_type": "markdown",
   "metadata": {
    "colab_type": "text",
    "id": "ufLrbuapOhZP"
   },
   "source": [
    "We used the torchvision dataset class for our images. It has in built framework to take filenames as load images, transform those images (like center-cropping), and classify images based on a given key. \n",
    "\n",
    "In the code below, we create a LegoData class from the VisionDataset class. The class takes in a root directory, a key, and what to transform the images by. We get the possible classes for the images based on the key (image_key). The getitem function allows us to load an image from the dataset based on its stored file path, get its class, and transform the image. The getitem function is helpful later on for visualizing specific images and getting the given class for a training image.\n"
   ]
  },
  {
   "cell_type": "code",
   "execution_count": 0,
   "metadata": {
    "colab": {},
    "colab_type": "code",
    "collapsed": true,
    "id": "RG3iP619zuk9"
   },
   "outputs": [],
   "source": [
    "def getFileName(filepath):\n",
    "  #gets \n",
    "  idx = filepath.rfind(\"/\")\n",
    "  return filepath[idx+1:]\n",
    "\n",
    "def show_image(img_tensor):\n",
    "  # Displays image based on its pixel values\n",
    "  plt.imshow(img_tensor.transpose(0,2).transpose(0,1)) #reorder tensor dimensions for imshow\n",
    "  plt.axis('off')\n",
    "  plt.show()\n",
    "\n",
    "class LegoData(VisionDataset):\n",
    "  \"\"\"\n",
    "  Dataset class for the lego data\n",
    "  \n",
    "  Args:\n",
    "    img_path (string): Filepath for images (ex: Base Images/Legos/*.jpg)\n",
    "    key_df (pandas DataFrame): Dataframe containing columns Folder1\tFolder2\t\n",
    "                               Picture Group\tTimestamp\tImage\tBackground \n",
    "                               Capture\tBrand\tBrick\n",
    "  \"\"\"\n",
    "  def __init__(self, filepaths, key_df, transform=None, target_transform=None):\n",
    "      super(LegoData, self).__init__('.',\n",
    "                                     transform=transform,\n",
    "                                     target_transform=target_transform)\n",
    "\n",
    "      self.filepaths = filepaths\n",
    "      self.key_df = key_df\n",
    "      self.transform = transform\n",
    "      self.target_transform = target_transform\n",
    "      \n",
    "      # self.classes = key_df.Brick.unique() would work for train and test set\n",
    "      # Hardcoded classes since external image dataset does not have correct class\n",
    "      self.classes = np.array(['2x2 L', '1x4', '1x1', '2x2', '2x3', '1x2'])\n",
    "  \n",
    "  def __getitem__(self, index):\n",
    "      filepath = self.filepaths[index]\n",
    "      \n",
    "      img = Image.open(filepath)      \n",
    "    \n",
    "      # Get index of row for matching filepath\n",
    "      key_idx = self.key_df[self.key_df['Image']==getFileName(filepath)].index.item()\n",
    "      \n",
    "      # Get corresponding lego class for file\n",
    "      img_class = self.key_df.Brick[key_idx]\n",
    "\n",
    "      # Get int representing lego class\n",
    "      target = int(np.where(self.classes == img_class)[0])\n",
    "      # apply transformations if they exist (this is useful for images)\n",
    "      if self.transform is not None:\n",
    "          img = self.transform(img)\n",
    "\n",
    "      # apply target transformations if they exist\n",
    "      if self.target_transform is not None:\n",
    "          target = self.target_transform(target)\n",
    "      \n",
    "      return img, target\n",
    "\n",
    "  def __len__(self):\n",
    "      return len(self.filepaths)"
   ]
  },
  {
   "cell_type": "markdown",
   "metadata": {
    "colab_type": "text",
    "id": "jDWfqY-C0EUO"
   },
   "source": [
    "After creating the class, we then create our train set and test set instances of the class. Our transform downsizes the images to be easier to process and makes the pixels a tensor for later evaluation. The filepath list is found based on all the filenames for cropped image legos. We also filtered out all images that had just a background rather than a lego, to focus on getting our algorithm to work best on legos, with the assumption that it would not be fed any incorrect data."
   ]
  },
  {
   "cell_type": "code",
   "execution_count": 0,
   "metadata": {
    "colab": {},
    "colab_type": "code",
    "collapsed": true,
    "id": "72zSxgh90E0R"
   },
   "outputs": [],
   "source": [
    "# Get images for train and test data sets and make them LegoData datasets\n",
    "transform = transforms.Compose([#transforms.CenterCrop((200,200)), # Crop center of image\n",
    "                                 transforms.Resize((32,32)), # Downsample image\n",
    "                                 transforms.ToTensor()])     # Make pixel values a tensor\n",
    "    \n",
    "raw_train_filepath_list = glob(\"Cropped Images/Legos/*.jpg\")\n",
    "filtered_train_filepath_list = [x for x in raw_train_filepath_list if not 'bg' in x] # Remove background-only images\n",
    "raw_test_filepath_list = glob(\"Cropped Images/Evaluation Set/*.jpg\")\n",
    "filtered_test_filepath_list = [x for x in raw_test_filepath_list if not 'bg' in x]\n",
    "\n",
    "train_set = LegoData(filtered_train_filepath_list, image_key, transform) # Makes a dataset from filepaths\n",
    "test_set = LegoData(filtered_test_filepath_list, image_key, transform)"
   ]
  },
  {
   "cell_type": "markdown",
   "metadata": {
    "colab_type": "text",
    "id": "kzJQWu_B6b2R"
   },
   "source": [
    "The code below devices how much of the train_set and test_set we will actually use to the run the model, and stores the image dimensions. This will be helpful later on when running the model."
   ]
  },
  {
   "cell_type": "code",
   "execution_count": 0,
   "metadata": {
    "colab": {},
    "colab_type": "code",
    "collapsed": true,
    "id": "uWd9NQq16T2r"
   },
   "outputs": [],
   "source": [
    "# Set up variables of information from datasets for the CNN\n",
    "im, target = train_set[0] # Use first image to get image size\n",
    "\n",
    "img_dims = tuple(im.shape)\n",
    "n_train_samples = int(len(train_set) * 0.5) # Number of images to use\n",
    "n_test_samples = int(len(test_set) * 0.5)\n",
    "classes = train_set.classes # Classes for different sizes of legos\n",
    "\n",
    "train_sampler = SubsetRandomSampler(np.arange(n_train_samples, dtype=np.int64))\n",
    "test_sampler = SubsetRandomSampler(np.arange(n_test_samples, dtype=np.int64))"
   ]
  },
  {
   "cell_type": "markdown",
   "metadata": {
    "colab_type": "text",
    "id": "Y4QvF07G0Hs5"
   },
   "source": [
    "### Verification:"
   ]
  },
  {
   "cell_type": "markdown",
   "metadata": {
    "colab_type": "text",
    "id": "tBM2JUpP-Cm7"
   },
   "source": [
    "To verify that the torch vision dataset is working correctly, we display the dataset information, and display example images from it."
   ]
  },
  {
   "cell_type": "code",
   "execution_count": 0,
   "metadata": {
    "colab": {
     "base_uri": "https://localhost:8080/",
     "height": 153
    },
    "colab_type": "code",
    "executionInfo": {
     "elapsed": 863,
     "status": "ok",
     "timestamp": 1571257802213,
     "user": {
      "displayName": "Amy Phung",
      "photoUrl": "https://lh3.googleusercontent.com/a-/AAuE7mCX6yorBpSgkuKhPzFyyI9cUbE9dYYI5AgWp4ciUQ=s64",
      "userId": "07860558739608806016"
     },
     "user_tz": 240
    },
    "id": "RiN-3dTZ0XrY",
    "outputId": "1858ec96-5d9d-413d-806d-ed5e6843d194"
   },
   "outputs": [
    {
     "data": {
      "text/plain": [
       "Dataset LegoData\n",
       "    Number of datapoints: 8344\n",
       "    Root location: .\n",
       "    StandardTransform\n",
       "Transform: Compose(\n",
       "               Resize(size=(32, 32), interpolation=PIL.Image.BILINEAR)\n",
       "               ToTensor()\n",
       "           )"
      ]
     },
     "execution_count": 36,
     "metadata": {
      "tags": []
     },
     "output_type": "execute_result"
    }
   ],
   "source": [
    "train_set # Dataset information"
   ]
  },
  {
   "cell_type": "code",
   "execution_count": 0,
   "metadata": {
    "colab": {
     "base_uri": "https://localhost:8080/",
     "height": 532
    },
    "colab_type": "code",
    "executionInfo": {
     "elapsed": 1057,
     "status": "ok",
     "timestamp": 1571257804276,
     "user": {
      "displayName": "Amy Phung",
      "photoUrl": "https://lh3.googleusercontent.com/a-/AAuE7mCX6yorBpSgkuKhPzFyyI9cUbE9dYYI5AgWp4ciUQ=s64",
      "userId": "07860558739608806016"
     },
     "user_tz": 240
    },
    "id": "FCeY8qlm0fxJ",
    "outputId": "b7088fa6-5e67-4c46-85e5-0063c4f8eebc"
   },
   "outputs": [
    {
     "data": {
      "image/png": "[encoded data removed]",
      "text/plain": [
       "<Figure size 432x288 with 1 Axes>"
      ]
     },
     "metadata": {
      "tags": []
     },
     "output_type": "display_data"
    },
    {
     "data": {
      "image/png": "[encoded data removed]",
      "text/plain": [
       "<Figure size 432x288 with 1 Axes>"
      ]
     },
     "metadata": {
      "tags": []
     },
     "output_type": "display_data"
    },
    {
     "name": "stdout",
     "output_type": "stream",
     "text": [
      "(3, 32, 32)\n"
     ]
    }
   ],
   "source": [
    "# Display a lego brick image\n",
    "im, target = train_set[8300] # Can put any index here\n",
    "im2, target2 = train_set[8000] # Second example\n",
    "\n",
    "show_image(im)\n",
    "show_image(im2)\n",
    "print(tuple(im.shape))"
   ]
  },
  {
   "cell_type": "markdown",
   "metadata": {
    "colab_type": "text",
    "id": "bWJQpxDI0McW"
   },
   "source": [
    "## Convolutional Neural Net (CNN):\n",
    "\n",
    "<!-- Neural Net Design\n",
    "we used x filter with x error function-->"
   ]
  },
  {
   "cell_type": "markdown",
   "metadata": {
    "colab_type": "text",
    "id": "IS8HlxNZz_fz"
   },
   "source": [
    "Basic lego model, will get replaced if Amy figures out better version"
   ]
  },
  {
   "cell_type": "code",
   "execution_count": 0,
   "metadata": {
    "colab": {},
    "colab_type": "code",
    "collapsed": true,
    "id": "yIA4Q3o20PiL"
   },
   "outputs": [],
   "source": [
    "class LegoCNN(nn.Module):\n",
    "  def __init__(self):\n",
    "    super(LegoCNN, self).__init__()\n",
    "    # Defines layer of CNN: convolutional -> pool -> maxpool -> fully connected reLU -> fully connected classes\n",
    "    num_kernels = 16 # TODO: Why 16?\n",
    "    self.conv1 = nn.Conv2d(img_dims[0], num_kernels, kernel_size=3, stride=1, padding=1)\n",
    "    self.pool = nn.MaxPool2d(kernel_size=2, stride=2, padding=0)\n",
    "    self.maxpool_output_size = int(num_kernels * (img_dims[1] / 2) * (img_dims[2]/2))\n",
    "\n",
    "    # fc = fully connected (first fully connected layer)\n",
    "    fc1_size = 64 # TODO Why 64 here?\n",
    "    self.fc1 = nn.Linear(self.maxpool_output_size, fc1_size)\n",
    "    self.activation_func = torch.nn.ReLU() # bc math...\n",
    "    # Convert fc to outputs that line up with number of classes\n",
    "    fc2_size = len(classes)\n",
    "    self.fc2 = nn.Linear(fc1_size, fc2_size)\n",
    "\n",
    "    # Defines operations and returns output of model\n",
    "  def forward(self, x):\n",
    "    x = self.conv1(x)\n",
    "    x = self.pool(x)\n",
    "    x = self.activation_func(x)\n",
    "\n",
    "    # Flattens output of conv, max pool, activation sequence\n",
    "    x = x.view(-1, self.maxpool_output_size)\n",
    "    x = self.fc1(x)\n",
    "    x = self.activation_func(x)\n",
    "    x = self.fc2(x)\n",
    "    return x\n",
    "\n",
    "  def get_loss(self, learning_rate):\n",
    "    loss = nn.CrossEntropyLoss()\n",
    "    optimizer = optim.Adam(self.parameters(), lr=learning_rate)\n",
    "    return loss, optimizer"
   ]
  },
  {
   "cell_type": "markdown",
   "metadata": {
    "colab_type": "text",
    "id": "r-qfiBC4vQiv"
   },
   "source": [
    "## Training and Loss Functions:"
   ]
  },
  {
   "cell_type": "markdown",
   "metadata": {
    "colab_type": "text",
    "id": "YA2YszWS3jUo"
   },
   "source": [
    "Once we have our dataset and model class created, we can then create functions for training and testing our model."
   ]
  },
  {
   "cell_type": "markdown",
   "metadata": {
    "colab_type": "text",
    "id": "U9SlV3jc3tuW"
   },
   "source": [
    "The function below is used for training the model, and finding the error/loss for the training and validation/testing data set."
   ]
  },
  {
   "cell_type": "code",
   "execution_count": 0,
   "metadata": {
    "colab": {},
    "colab_type": "code",
    "collapsed": true,
    "id": "BV8WGQNCzlMw"
   },
   "outputs": [],
   "source": [
    "def train_model(net, n_epochs, learning_rate, train_loader, test_loader):\n",
    "    \"\"\" Train a the specified network.\n",
    "\n",
    "        Outputs a tuple with the following four elements\n",
    "        train_hist_x: the x-values (batch number) that the training set was \n",
    "            evaluated on.\n",
    "        train_loss_hist: the loss values for the training set corresponding to\n",
    "            the batch numbers returned in train_hist_x\n",
    "        test_hist_x: the x-values (batch number) that the test set was \n",
    "            evaluated on.\n",
    "        test_loss_hist: the loss values for the test set corresponding to\n",
    "            the batch numbers returned in test_hist_x\n",
    "    \"\"\" \n",
    "    loss, optimizer = net.get_loss(learning_rate)\n",
    "    # Define some parameters to keep track of metrics\n",
    "    print_every = 20\n",
    "    idx = 0\n",
    "    train_hist_x = []\n",
    "    train_loss_hist = []\n",
    "    test_hist_x = []\n",
    "    test_loss_hist = []\n",
    "\n",
    "    training_start_time = time.time()\n",
    "    # Loop for n_epochs\n",
    "    for epoch in range(n_epochs):\n",
    "        # print(\"here1\")\n",
    "        running_loss = 0.0\n",
    "        start_time = time.time()\n",
    "\n",
    "        for i, data in enumerate(train_loader, 0):\n",
    "             # Get inputs in right form\n",
    "            inputs, labels = data\n",
    "            # Labels are converted to a tensor, instead of ints in a list\n",
    "            labels = torch.LongTensor(labels)\n",
    "            # Wrap tensors in Variables\n",
    "            inputs, labels = Variable(inputs).to(device), Variable(labels).to(device)\n",
    "            \n",
    "            # In Pytorch, We need to always remember to set the optimizer gradients to 0 before we recompute the new gradients\n",
    "            optimizer.zero_grad()\n",
    "            # Forward pass\n",
    "            outputs = net(inputs)\n",
    "            \n",
    "            # Compute the loss and find the loss with respect to each parameter of the model\n",
    "            loss_size = loss(outputs, labels)\n",
    "            loss_size.backward()\n",
    "            \n",
    "            # Change each parameter with respect to the recently computed loss.\n",
    "            optimizer.step()\n",
    "\n",
    "            # Update statistics\n",
    "            running_loss += loss_size.data.item()\n",
    "            \n",
    "            # Print every 20th batch of an epoch\n",
    "            if (i % print_every) == print_every-1:\n",
    "                print(\"Epoch {}, Iteration {}\\t train_loss: {:.2f} took: {:.2f}s\".format(\n",
    "                    epoch + 1, i+1,running_loss / print_every, time.time() - start_time))\n",
    "                # Reset running loss and time\n",
    "                train_loss_hist.append(running_loss / print_every)\n",
    "                train_hist_x.append(idx)\n",
    "                running_loss = 0.0\n",
    "                start_time = time.time()\n",
    "            idx += 1\n",
    "\n",
    "        # At the end of the epoch, do a pass on the test set\n",
    "        total_test_loss = 0\n",
    "        for inputs, labels in test_loader:\n",
    "            # Wrap tensors in Variables\n",
    "            inputs, labels = Variable(inputs).to(device), Variable(labels).to(device)\n",
    "\n",
    "            # Forward pass\n",
    "            test_outputs = net(inputs)\n",
    "            test_loss_size = loss(test_outputs, labels)\n",
    "            total_test_loss += test_loss_size.data.item()\n",
    "        test_loss_hist.append(total_test_loss / len(test_loader))\n",
    "        test_hist_x.append(idx)\n",
    "        print(\"Validation loss = {:.2f}\".format(\n",
    "            total_test_loss / len(test_loader)))\n",
    "\n",
    "    print(\"Training finished, took {:.2f}s\".format(\n",
    "        time.time() - training_start_time))\n",
    "    return train_hist_x, train_loss_hist, test_hist_x, test_loss_hist"
   ]
  },
  {
   "cell_type": "markdown",
   "metadata": {
    "colab_type": "text",
    "id": "-NMLWPYB4HXR"
   },
   "source": [
    "The function below is used to evaluate the accuracy of the model for predicting outputs. It compares the output labels (what size the lego was predicted as) to the given label for the input (what size the lego actually is) and tallies the number of correct guesses."
   ]
  },
  {
   "cell_type": "code",
   "execution_count": 0,
   "metadata": {
    "colab": {},
    "colab_type": "code",
    "collapsed": true,
    "id": "-ztnXEPmvl5s"
   },
   "outputs": [],
   "source": [
    "def get_accuracy(net, loader):\n",
    "    n_correct = 0\n",
    "    n_total = 0\n",
    "    for i, data in enumerate(loader, 0):\n",
    "        # Get inputs in right form\n",
    "        inputs, labels = data\n",
    "        inputs, labels = Variable(inputs).to(device), Variable(labels).to(device)\n",
    "\n",
    "        # Forward pass\n",
    "        outputs = net(inputs)\n",
    "        n_correct += np.sum(np.argmax(outputs.cpu().detach().numpy(), axis=1) == labels.cpu().numpy())\n",
    "        n_total += labels.shape[0]\n",
    "    return n_correct/n_total"
   ]
  },
  {
   "cell_type": "markdown",
   "metadata": {
    "colab_type": "text",
    "id": "erDGWgsM54wz"
   },
   "source": [
    "This function uses the last two functions to train the model and then return the accuracy of the training and test set."
   ]
  },
  {
   "cell_type": "code",
   "execution_count": 0,
   "metadata": {
    "colab": {},
    "colab_type": "code",
    "collapsed": true,
    "id": "ksRgchETvZ7H"
   },
   "outputs": [],
   "source": [
    "def runTesting(train_size, test_size, net, train_loader=None, test_loader=None):\n",
    "  print(\"Train size: \" + str(train_size))\n",
    "  print(\"Test size: \" + str(test_size))\n",
    "  # Define training parameters\n",
    "  training_batch_size = train_size # Number of images to use in mini-batch to train  \n",
    "  testing_batch_size = test_size #default: 128 # Number of images to use in mini-batch to test\n",
    "\n",
    "  learning_rate = 1e-2  # TODO: how does this change things\n",
    "  n_epochs = 3 #10 # TODO: orignal was 10, maybe try making it 10 again?\n",
    "  # Get our data into the mini batch size that we defined\n",
    "  \n",
    "  if (train_loader == None):\n",
    "    train_loader = torch.utils.data.DataLoader(\n",
    "        train_set, batch_size=training_batch_size, sampler=train_sampler, num_workers=2)\n",
    "    test_loader = torch.utils.data.DataLoader(\n",
    "        test_set, batch_size=testing_batch_size, sampler=test_sampler, num_workers=2)\n",
    "\n",
    "  train_hist_x, train_loss_hist, test_hist_x, test_loss_hist = train_model(net, n_epochs, learning_rate, train_loader, test_loader)\n",
    "  print(\"Train accuracy is\", get_accuracy(net, train_loader))\n",
    "  print(\"Test accuracy is\", get_accuracy(net, test_loader))\n",
    "  return train_hist_x, train_loss_hist, test_hist_x, test_loss_hist"
   ]
  },
  {
   "cell_type": "markdown",
   "metadata": {
    "colab_type": "text",
    "id": "Ko3yjNmbTKzA"
   },
   "source": [
    "#### Model Training + Testing"
   ]
  },
  {
   "cell_type": "markdown",
   "metadata": {
    "colab_type": "text",
    "id": "kFuM7I2gS7ga"
   },
   "source": [
    "To train a model, we use this code which calls the above functions and returns the accuracy of the model."
   ]
  },
  {
   "cell_type": "code",
   "execution_count": 11,
   "metadata": {
    "colab": {
     "base_uri": "https://localhost:8080/",
     "height": 816
    },
    "colab_type": "code",
    "executionInfo": {
     "elapsed": 89672,
     "status": "ok",
     "timestamp": 1571274305315,
     "user": {
      "displayName": "Amy Phung",
      "photoUrl": "https://lh3.googleusercontent.com/a-/AAuE7mCX6yorBpSgkuKhPzFyyI9cUbE9dYYI5AgWp4ciUQ=s64",
      "userId": "07860558739608806016"
     },
     "user_tz": 240
    },
    "id": "DaN-a6oiS69Z",
    "outputId": "196ce3d1-eed1-4fd7-a702-22841f973f84"
   },
   "outputs": [
    {
     "name": "stdout",
     "output_type": "stream",
     "text": [
      "Train size: 16\n",
      "Test size: 16\n",
      "Epoch 1, Iteration 20\t train_loss: 2.03 took: 1.55s\n",
      "Epoch 1, Iteration 40\t train_loss: 1.78 took: 1.40s\n",
      "Epoch 1, Iteration 60\t train_loss: 1.78 took: 1.40s\n",
      "Epoch 1, Iteration 80\t train_loss: 1.75 took: 1.42s\n",
      "Epoch 1, Iteration 100\t train_loss: 1.73 took: 1.47s\n",
      "Epoch 1, Iteration 120\t train_loss: 1.66 took: 1.34s\n",
      "Epoch 1, Iteration 140\t train_loss: 1.59 took: 1.32s\n",
      "Epoch 1, Iteration 160\t train_loss: 1.53 took: 1.34s\n",
      "Epoch 1, Iteration 180\t train_loss: 1.40 took: 1.40s\n",
      "Epoch 1, Iteration 200\t train_loss: 1.44 took: 1.40s\n",
      "Epoch 1, Iteration 220\t train_loss: 1.36 took: 1.35s\n",
      "Epoch 1, Iteration 240\t train_loss: 1.26 took: 1.39s\n",
      "Epoch 1, Iteration 260\t train_loss: 1.35 took: 1.34s\n",
      "Validation loss = 1.29\n",
      "Epoch 2, Iteration 20\t train_loss: 1.16 took: 1.46s\n",
      "Epoch 2, Iteration 40\t train_loss: 1.18 took: 1.37s\n",
      "Epoch 2, Iteration 60\t train_loss: 1.13 took: 1.41s\n",
      "Epoch 2, Iteration 80\t train_loss: 1.19 took: 1.42s\n",
      "Epoch 2, Iteration 100\t train_loss: 1.10 took: 1.42s\n",
      "Epoch 2, Iteration 120\t train_loss: 1.12 took: 1.31s\n",
      "Epoch 2, Iteration 140\t train_loss: 1.09 took: 1.35s\n",
      "Epoch 2, Iteration 160\t train_loss: 1.10 took: 1.41s\n",
      "Epoch 2, Iteration 180\t train_loss: 0.95 took: 1.30s\n",
      "Epoch 2, Iteration 200\t train_loss: 0.93 took: 1.35s\n",
      "Epoch 2, Iteration 220\t train_loss: 0.91 took: 1.44s\n",
      "Epoch 2, Iteration 240\t train_loss: 0.97 took: 1.33s\n",
      "Epoch 2, Iteration 260\t train_loss: 0.97 took: 1.33s\n",
      "Validation loss = 0.98\n",
      "Epoch 3, Iteration 20\t train_loss: 0.88 took: 1.53s\n",
      "Epoch 3, Iteration 40\t train_loss: 0.91 took: 1.37s\n",
      "Epoch 3, Iteration 60\t train_loss: 0.99 took: 1.34s\n",
      "Epoch 3, Iteration 80\t train_loss: 0.88 took: 1.36s\n",
      "Epoch 3, Iteration 100\t train_loss: 0.87 took: 1.47s\n",
      "Epoch 3, Iteration 120\t train_loss: 0.86 took: 1.37s\n",
      "Epoch 3, Iteration 140\t train_loss: 0.89 took: 1.31s\n",
      "Epoch 3, Iteration 160\t train_loss: 0.89 took: 1.30s\n",
      "Epoch 3, Iteration 180\t train_loss: 0.81 took: 1.39s\n",
      "Epoch 3, Iteration 200\t train_loss: 0.95 took: 1.35s\n",
      "Epoch 3, Iteration 220\t train_loss: 0.81 took: 1.40s\n",
      "Epoch 3, Iteration 240\t train_loss: 1.04 took: 1.44s\n",
      "Epoch 3, Iteration 260\t train_loss: 0.81 took: 1.30s\n",
      "Validation loss = 1.00\n",
      "Training finished, took 62.72s\n",
      "Train accuracy is 0.6306327900287632\n",
      "Test accuracy is 0.5835866261398176\n"
     ]
    }
   ],
   "source": [
    "size1 = 16\n",
    "size2 = 16\n",
    "\n",
    "# device = 'cuda' # 'cpu' if we want to not use the gpu\n",
    "device='cuda'\n",
    "# Initialize the model, loss, and optimization function\n",
    "net = LegoCNN()\n",
    "# This tells our model to send all of the tensors and operations to the GPU (or keep them at the CPU if we're not using GPU)\n",
    "net.to(device)\n",
    "training_batch_size = size1\n",
    "testing_batch_size = size2\n",
    "train_hist_x, train_loss_hist, test_hist_x, test_loss_hist = runTesting(size1, size2, net)"
   ]
  },
  {
   "cell_type": "markdown",
   "metadata": {
    "colab_type": "text",
    "id": "mmoB3CSgUdu2"
   },
   "source": [
    "#### Loss Visualization"
   ]
  },
  {
   "cell_type": "code",
   "execution_count": 12,
   "metadata": {
    "colab": {
     "base_uri": "https://localhost:8080/",
     "height": 283
    },
    "colab_type": "code",
    "executionInfo": {
     "elapsed": 89988,
     "status": "ok",
     "timestamp": 1571274305645,
     "user": {
      "displayName": "Amy Phung",
      "photoUrl": "https://lh3.googleusercontent.com/a-/AAuE7mCX6yorBpSgkuKhPzFyyI9cUbE9dYYI5AgWp4ciUQ=s64",
      "userId": "07860558739608806016"
     },
     "user_tz": 240
    },
    "id": "xrw__FeXUkYy",
    "outputId": "7bf6699c-cef1-44da-e116-ffe6995fb3dd"
   },
   "outputs": [
    {
     "data": {
      "image/png": "[encoded data removed]",
      "text/plain": [
       "<Figure size 432x288 with 1 Axes>"
      ]
     },
     "metadata": {
      "tags": []
     },
     "output_type": "display_data"
    }
   ],
   "source": [
    "plt.plot(train_hist_x,train_loss_hist)\n",
    "plt.plot(test_hist_x,test_loss_hist)\n",
    "plt.legend(['train loss', 'validation loss'])\n",
    "plt.xlabel('Batch number')\n",
    "plt.ylabel('Loss')\n",
    "plt.show()"
   ]
  },
  {
   "cell_type": "markdown",
   "metadata": {
    "colab_type": "text",
    "id": "txhgekm-VcHb"
   },
   "source": [
    "#### Individual Image Verification"
   ]
  },
  {
   "cell_type": "markdown",
   "metadata": {
    "colab_type": "text",
    "id": "gqUl1XrmVfiy"
   },
   "source": [
    "To view results for individual images, we can use the following functions to apply the model to single images and compare the prediction to the expected results"
   ]
  },
  {
   "cell_type": "code",
   "execution_count": 0,
   "metadata": {
    "colab": {},
    "colab_type": "code",
    "collapsed": true,
    "id": "GLsqLJMQVec5"
   },
   "outputs": [],
   "source": [
    "def examine_label(idx, dataset):\n",
    "    image, label = dataset[idx]\n",
    "    class_scores = net(Variable(image.unsqueeze(0)).to(device))\n",
    "    print(class_scores.cpu().detach().numpy())\n",
    "    prediction = np.argmax(class_scores.cpu().detach().numpy())\n",
    "    classes = dataset.classes\n",
    "    print(classes)\n",
    "    disp_image(image, label, classes, prediction)\n",
    "\n",
    "def disp_image(image, class_idx, classes, predicted=None):\n",
    "    # need to reorder the tensor dimensions to work properly with imshow\n",
    "    plt.imshow(image.transpose(0,2).transpose(0,1))\n",
    "    plt.axis('off')\n",
    "    if predicted:\n",
    "        plt.title(\"Actual: \" + classes[class_idx] + \"     Predicted: \" + classes[predicted])\n",
    "    else:\n",
    "        plt.title(\"Actual: \" + classes[class_idx])\n",
    "    plt.show()"
   ]
  },
  {
   "cell_type": "code",
   "execution_count": 23,
   "metadata": {
    "colab": {
     "base_uri": "https://localhost:8080/",
     "height": 315
    },
    "colab_type": "code",
    "executionInfo": {
     "elapsed": 511,
     "status": "ok",
     "timestamp": 1571274854742,
     "user": {
      "displayName": "Amy Phung",
      "photoUrl": "https://lh3.googleusercontent.com/a-/AAuE7mCX6yorBpSgkuKhPzFyyI9cUbE9dYYI5AgWp4ciUQ=s64",
      "userId": "07860558739608806016"
     },
     "user_tz": 240
    },
    "id": "sjXM5hbIVt0z",
    "outputId": "19ea279a-8b62-4c2e-f847-14ff6614346c"
   },
   "outputs": [
    {
     "name": "stdout",
     "output_type": "stream",
     "text": [
      "[[  1.4866557 -17.854847    5.553847    2.8257701  -3.5962474   2.1818526]]\n",
      "['2x2 L' '1x4' '1x1' '2x2' '2x3' '1x2']\n"
     ]
    },
    {
     "data": {
      "image/png": "[encoded data removed]",
      "text/plain": [
       "<Figure size 432x288 with 1 Axes>"
      ]
     },
     "metadata": {
      "tags": []
     },
     "output_type": "display_data"
    }
   ],
   "source": [
    "examine_label(650, train_set) # Can put any valid index here"
   ]
  },
  {
   "cell_type": "markdown",
   "metadata": {
    "colab_type": "text",
    "id": "XjVA97kewcNC"
   },
   "source": [
    "# 3 Interesting things"
   ]
  },
  {
   "cell_type": "markdown",
   "metadata": {
    "colab_type": "text",
    "id": "U98sXUJVu3OK"
   },
   "source": [
    "### Batch Size\n"
   ]
  },
  {
   "cell_type": "markdown",
   "metadata": {
    "colab_type": "text",
    "id": "sX57NXWv0n7D"
   },
   "source": [
    "We wanted to explore the impact of batch size on our training times and resulting accuracy. To do this, we tried using common batch sizes as described by [this site](https://machinelearningmastery.com/gentle-introduction-mini-batch-gradient-descent-configure-batch-size/) for our test and training batch sizes. We ran this test using batch sizes 16, 32, 64, and 128 using our one-layer convolutional nerual network. The code we used to do this is included in the cell below: "
   ]
  },
  {
   "cell_type": "code",
   "execution_count": 13,
   "metadata": {
    "colab": {
     "base_uri": "https://localhost:8080/",
     "height": 715
    },
    "colab_type": "code",
    "executionInfo": {
     "elapsed": 63029,
     "status": "error",
     "timestamp": 1571274784674,
     "user": {
      "displayName": "Amy Phung",
      "photoUrl": "https://lh3.googleusercontent.com/a-/AAuE7mCX6yorBpSgkuKhPzFyyI9cUbE9dYYI5AgWp4ciUQ=s64",
      "userId": "07860558739608806016"
     },
     "user_tz": 240
    },
    "id": "SFYif_8bu0Lm",
    "outputId": "d1cead95-440b-4ef7-9ccb-29a7f24db6f1"
   },
   "outputs": [
    {
     "name": "stdout",
     "output_type": "stream",
     "text": [
      "Train size: 32\n",
      "Test size: 32\n",
      "Epoch 1, Iteration 20\t train_loss: 1.82 took: 2.89s\n",
      "Epoch 1, Iteration 40\t train_loss: 1.70 took: 2.70s\n",
      "Epoch 1, Iteration 60\t train_loss: 1.58 took: 2.85s\n",
      "Epoch 1, Iteration 80\t train_loss: 1.47 took: 2.85s\n",
      "Epoch 1, Iteration 100\t train_loss: 1.27 took: 2.81s\n",
      "Epoch 1, Iteration 120\t train_loss: 1.33 took: 2.71s\n",
      "Validation loss = 1.19\n",
      "Epoch 2, Iteration 20\t train_loss: 1.12 took: 2.88s\n",
      "Epoch 2, Iteration 40\t train_loss: 1.02 took: 2.76s\n",
      "Epoch 2, Iteration 60\t train_loss: 1.06 took: 2.72s\n",
      "Epoch 2, Iteration 80\t train_loss: 0.96 took: 2.72s\n",
      "Epoch 2, Iteration 100\t train_loss: 1.05 took: 2.73s\n",
      "Epoch 2, Iteration 120\t train_loss: 0.98 took: 2.69s\n",
      "Validation loss = 0.98\n",
      "Epoch 3, Iteration 20\t train_loss: 0.82 took: 2.90s\n",
      "Epoch 3, Iteration 40\t train_loss: 0.78 took: 2.72s\n",
      "Epoch 3, Iteration 60\t train_loss: 0.78 took: 2.78s\n",
      "Epoch 3, Iteration 80\t train_loss: 0.83 took: 2.76s\n",
      "Epoch 3, Iteration 100\t train_loss: 0.91 took: 2.71s\n",
      "Epoch 3, Iteration 120\t train_loss: 0.77 took: 2.79s\n"
     ]
    },
    {
     "ename": "KeyboardInterrupt",
     "evalue": "ignored",
     "output_type": "error",
     "traceback": [
      "\u001b[0;31m---------------------------------------------------------------------------\u001b[0m",
      "\u001b[0;31mKeyboardInterrupt\u001b[0m                         Traceback (most recent call last)",
      "\u001b[0;32m<ipython-input-13-566582848dd8>\u001b[0m in \u001b[0;36m<module>\u001b[0;34m()\u001b[0m\n\u001b[1;32m     17\u001b[0m       test_set, batch_size=testing_batch_size, sampler=test_sampler, num_workers=2)\n\u001b[1;32m     18\u001b[0m     \u001b[0;31m#run the training and find accuracy for this batch size\u001b[0m\u001b[0;34m\u001b[0m\u001b[0;34m\u001b[0m\u001b[0;34m\u001b[0m\u001b[0m\n\u001b[0;32m---> 19\u001b[0;31m     \u001b[0mrunTesting\u001b[0m\u001b[0;34m(\u001b[0m\u001b[0msize1\u001b[0m\u001b[0;34m,\u001b[0m \u001b[0msize2\u001b[0m\u001b[0;34m,\u001b[0m \u001b[0mnet\u001b[0m\u001b[0;34m,\u001b[0m \u001b[0mtrain_loader\u001b[0m\u001b[0;34m,\u001b[0m \u001b[0mtest_loader\u001b[0m\u001b[0;34m)\u001b[0m\u001b[0;34m\u001b[0m\u001b[0;34m\u001b[0m\u001b[0m\n\u001b[0m",
      "\u001b[0;32m<ipython-input-10-1c6cec44beb6>\u001b[0m in \u001b[0;36mrunTesting\u001b[0;34m(train_size, test_size, net, train_loader, test_loader)\u001b[0m\n\u001b[1;32m     16\u001b[0m         test_set, batch_size=testing_batch_size, sampler=test_sampler, num_workers=2)\n\u001b[1;32m     17\u001b[0m \u001b[0;34m\u001b[0m\u001b[0m\n\u001b[0;32m---> 18\u001b[0;31m   \u001b[0mtrain_hist_x\u001b[0m\u001b[0;34m,\u001b[0m \u001b[0mtrain_loss_hist\u001b[0m\u001b[0;34m,\u001b[0m \u001b[0mtest_hist_x\u001b[0m\u001b[0;34m,\u001b[0m \u001b[0mtest_loss_hist\u001b[0m \u001b[0;34m=\u001b[0m \u001b[0mtrain_model\u001b[0m\u001b[0;34m(\u001b[0m\u001b[0mnet\u001b[0m\u001b[0;34m,\u001b[0m \u001b[0mn_epochs\u001b[0m\u001b[0;34m,\u001b[0m \u001b[0mlearning_rate\u001b[0m\u001b[0;34m,\u001b[0m \u001b[0mtrain_loader\u001b[0m\u001b[0;34m,\u001b[0m \u001b[0mtest_loader\u001b[0m\u001b[0;34m)\u001b[0m\u001b[0;34m\u001b[0m\u001b[0;34m\u001b[0m\u001b[0m\n\u001b[0m\u001b[1;32m     19\u001b[0m   \u001b[0mprint\u001b[0m\u001b[0;34m(\u001b[0m\u001b[0;34m\"Train accuracy is\"\u001b[0m\u001b[0;34m,\u001b[0m \u001b[0mget_accuracy\u001b[0m\u001b[0;34m(\u001b[0m\u001b[0mnet\u001b[0m\u001b[0;34m,\u001b[0m \u001b[0mtrain_loader\u001b[0m\u001b[0;34m)\u001b[0m\u001b[0;34m)\u001b[0m\u001b[0;34m\u001b[0m\u001b[0;34m\u001b[0m\u001b[0m\n\u001b[1;32m     20\u001b[0m   \u001b[0mprint\u001b[0m\u001b[0;34m(\u001b[0m\u001b[0;34m\"Test accuracy is\"\u001b[0m\u001b[0;34m,\u001b[0m \u001b[0mget_accuracy\u001b[0m\u001b[0;34m(\u001b[0m\u001b[0mnet\u001b[0m\u001b[0;34m,\u001b[0m \u001b[0mtest_loader\u001b[0m\u001b[0;34m)\u001b[0m\u001b[0;34m)\u001b[0m\u001b[0;34m\u001b[0m\u001b[0;34m\u001b[0m\u001b[0m\n",
      "\u001b[0;32m<ipython-input-8-754eccd4a02a>\u001b[0m in \u001b[0;36mtrain_model\u001b[0;34m(net, n_epochs, learning_rate, train_loader, test_loader)\u001b[0m\n\u001b[1;32m     64\u001b[0m         \u001b[0;31m# At the end of the epoch, do a pass on the test set\u001b[0m\u001b[0;34m\u001b[0m\u001b[0;34m\u001b[0m\u001b[0;34m\u001b[0m\u001b[0m\n\u001b[1;32m     65\u001b[0m         \u001b[0mtotal_test_loss\u001b[0m \u001b[0;34m=\u001b[0m \u001b[0;36m0\u001b[0m\u001b[0;34m\u001b[0m\u001b[0;34m\u001b[0m\u001b[0m\n\u001b[0;32m---> 66\u001b[0;31m         \u001b[0;32mfor\u001b[0m \u001b[0minputs\u001b[0m\u001b[0;34m,\u001b[0m \u001b[0mlabels\u001b[0m \u001b[0;32min\u001b[0m \u001b[0mtest_loader\u001b[0m\u001b[0;34m:\u001b[0m\u001b[0;34m\u001b[0m\u001b[0;34m\u001b[0m\u001b[0m\n\u001b[0m\u001b[1;32m     67\u001b[0m             \u001b[0;31m# Wrap tensors in Variables\u001b[0m\u001b[0;34m\u001b[0m\u001b[0;34m\u001b[0m\u001b[0;34m\u001b[0m\u001b[0m\n\u001b[1;32m     68\u001b[0m             \u001b[0minputs\u001b[0m\u001b[0;34m,\u001b[0m \u001b[0mlabels\u001b[0m \u001b[0;34m=\u001b[0m \u001b[0mVariable\u001b[0m\u001b[0;34m(\u001b[0m\u001b[0minputs\u001b[0m\u001b[0;34m)\u001b[0m\u001b[0;34m.\u001b[0m\u001b[0mto\u001b[0m\u001b[0;34m(\u001b[0m\u001b[0mdevice\u001b[0m\u001b[0;34m)\u001b[0m\u001b[0;34m,\u001b[0m \u001b[0mVariable\u001b[0m\u001b[0;34m(\u001b[0m\u001b[0mlabels\u001b[0m\u001b[0;34m)\u001b[0m\u001b[0;34m.\u001b[0m\u001b[0mto\u001b[0m\u001b[0;34m(\u001b[0m\u001b[0mdevice\u001b[0m\u001b[0;34m)\u001b[0m\u001b[0;34m\u001b[0m\u001b[0;34m\u001b[0m\u001b[0m\n",
      "\u001b[0;32m/usr/local/lib/python3.6/dist-packages/torch/utils/data/dataloader.py\u001b[0m in \u001b[0;36m__next__\u001b[0;34m(self)\u001b[0m\n\u001b[1;32m    802\u001b[0m \u001b[0;34m\u001b[0m\u001b[0m\n\u001b[1;32m    803\u001b[0m             \u001b[0;32massert\u001b[0m \u001b[0;32mnot\u001b[0m \u001b[0mself\u001b[0m\u001b[0;34m.\u001b[0m\u001b[0mshutdown\u001b[0m \u001b[0;32mand\u001b[0m \u001b[0mself\u001b[0m\u001b[0;34m.\u001b[0m\u001b[0mtasks_outstanding\u001b[0m \u001b[0;34m>\u001b[0m \u001b[0;36m0\u001b[0m\u001b[0;34m\u001b[0m\u001b[0;34m\u001b[0m\u001b[0m\n\u001b[0;32m--> 804\u001b[0;31m             \u001b[0midx\u001b[0m\u001b[0;34m,\u001b[0m \u001b[0mdata\u001b[0m \u001b[0;34m=\u001b[0m \u001b[0mself\u001b[0m\u001b[0;34m.\u001b[0m\u001b[0m_get_data\u001b[0m\u001b[0;34m(\u001b[0m\u001b[0;34m)\u001b[0m\u001b[0;34m\u001b[0m\u001b[0;34m\u001b[0m\u001b[0m\n\u001b[0m\u001b[1;32m    805\u001b[0m             \u001b[0mself\u001b[0m\u001b[0;34m.\u001b[0m\u001b[0mtasks_outstanding\u001b[0m \u001b[0;34m-=\u001b[0m \u001b[0;36m1\u001b[0m\u001b[0;34m\u001b[0m\u001b[0;34m\u001b[0m\u001b[0m\n\u001b[1;32m    806\u001b[0m \u001b[0;34m\u001b[0m\u001b[0m\n",
      "\u001b[0;32m/usr/local/lib/python3.6/dist-packages/torch/utils/data/dataloader.py\u001b[0m in \u001b[0;36m_get_data\u001b[0;34m(self)\u001b[0m\n\u001b[1;32m    769\u001b[0m         \u001b[0;32melse\u001b[0m\u001b[0;34m:\u001b[0m\u001b[0;34m\u001b[0m\u001b[0;34m\u001b[0m\u001b[0m\n\u001b[1;32m    770\u001b[0m             \u001b[0;32mwhile\u001b[0m \u001b[0;32mTrue\u001b[0m\u001b[0;34m:\u001b[0m\u001b[0;34m\u001b[0m\u001b[0;34m\u001b[0m\u001b[0m\n\u001b[0;32m--> 771\u001b[0;31m                 \u001b[0msuccess\u001b[0m\u001b[0;34m,\u001b[0m \u001b[0mdata\u001b[0m \u001b[0;34m=\u001b[0m \u001b[0mself\u001b[0m\u001b[0;34m.\u001b[0m\u001b[0m_try_get_data\u001b[0m\u001b[0;34m(\u001b[0m\u001b[0;34m)\u001b[0m\u001b[0;34m\u001b[0m\u001b[0;34m\u001b[0m\u001b[0m\n\u001b[0m\u001b[1;32m    772\u001b[0m                 \u001b[0;32mif\u001b[0m \u001b[0msuccess\u001b[0m\u001b[0;34m:\u001b[0m\u001b[0;34m\u001b[0m\u001b[0;34m\u001b[0m\u001b[0m\n\u001b[1;32m    773\u001b[0m                     \u001b[0;32mreturn\u001b[0m \u001b[0mdata\u001b[0m\u001b[0;34m\u001b[0m\u001b[0;34m\u001b[0m\u001b[0m\n",
      "\u001b[0;32m/usr/local/lib/python3.6/dist-packages/torch/utils/data/dataloader.py\u001b[0m in \u001b[0;36m_try_get_data\u001b[0;34m(self, timeout)\u001b[0m\n\u001b[1;32m    722\u001b[0m         \u001b[0;31m#   (bool: whether successfully get data, any: data if successful else None)\u001b[0m\u001b[0;34m\u001b[0m\u001b[0;34m\u001b[0m\u001b[0;34m\u001b[0m\u001b[0m\n\u001b[1;32m    723\u001b[0m         \u001b[0;32mtry\u001b[0m\u001b[0;34m:\u001b[0m\u001b[0;34m\u001b[0m\u001b[0;34m\u001b[0m\u001b[0m\n\u001b[0;32m--> 724\u001b[0;31m             \u001b[0mdata\u001b[0m \u001b[0;34m=\u001b[0m \u001b[0mself\u001b[0m\u001b[0;34m.\u001b[0m\u001b[0mdata_queue\u001b[0m\u001b[0;34m.\u001b[0m\u001b[0mget\u001b[0m\u001b[0;34m(\u001b[0m\u001b[0mtimeout\u001b[0m\u001b[0;34m=\u001b[0m\u001b[0mtimeout\u001b[0m\u001b[0;34m)\u001b[0m\u001b[0;34m\u001b[0m\u001b[0;34m\u001b[0m\u001b[0m\n\u001b[0m\u001b[1;32m    725\u001b[0m             \u001b[0;32mreturn\u001b[0m \u001b[0;34m(\u001b[0m\u001b[0;32mTrue\u001b[0m\u001b[0;34m,\u001b[0m \u001b[0mdata\u001b[0m\u001b[0;34m)\u001b[0m\u001b[0;34m\u001b[0m\u001b[0;34m\u001b[0m\u001b[0m\n\u001b[1;32m    726\u001b[0m         \u001b[0;32mexcept\u001b[0m \u001b[0mException\u001b[0m \u001b[0;32mas\u001b[0m \u001b[0me\u001b[0m\u001b[0;34m:\u001b[0m\u001b[0;34m\u001b[0m\u001b[0;34m\u001b[0m\u001b[0m\n",
      "\u001b[0;32m/usr/lib/python3.6/multiprocessing/queues.py\u001b[0m in \u001b[0;36mget\u001b[0;34m(self, block, timeout)\u001b[0m\n\u001b[1;32m    102\u001b[0m                 \u001b[0;32mif\u001b[0m \u001b[0mblock\u001b[0m\u001b[0;34m:\u001b[0m\u001b[0;34m\u001b[0m\u001b[0;34m\u001b[0m\u001b[0m\n\u001b[1;32m    103\u001b[0m                     \u001b[0mtimeout\u001b[0m \u001b[0;34m=\u001b[0m \u001b[0mdeadline\u001b[0m \u001b[0;34m-\u001b[0m \u001b[0mtime\u001b[0m\u001b[0;34m.\u001b[0m\u001b[0mmonotonic\u001b[0m\u001b[0;34m(\u001b[0m\u001b[0;34m)\u001b[0m\u001b[0;34m\u001b[0m\u001b[0;34m\u001b[0m\u001b[0m\n\u001b[0;32m--> 104\u001b[0;31m                     \u001b[0;32mif\u001b[0m \u001b[0;32mnot\u001b[0m \u001b[0mself\u001b[0m\u001b[0;34m.\u001b[0m\u001b[0m_poll\u001b[0m\u001b[0;34m(\u001b[0m\u001b[0mtimeout\u001b[0m\u001b[0;34m)\u001b[0m\u001b[0;34m:\u001b[0m\u001b[0;34m\u001b[0m\u001b[0;34m\u001b[0m\u001b[0m\n\u001b[0m\u001b[1;32m    105\u001b[0m                         \u001b[0;32mraise\u001b[0m \u001b[0mEmpty\u001b[0m\u001b[0;34m\u001b[0m\u001b[0;34m\u001b[0m\u001b[0m\n\u001b[1;32m    106\u001b[0m                 \u001b[0;32melif\u001b[0m \u001b[0;32mnot\u001b[0m \u001b[0mself\u001b[0m\u001b[0;34m.\u001b[0m\u001b[0m_poll\u001b[0m\u001b[0;34m(\u001b[0m\u001b[0;34m)\u001b[0m\u001b[0;34m:\u001b[0m\u001b[0;34m\u001b[0m\u001b[0;34m\u001b[0m\u001b[0m\n",
      "\u001b[0;32m/usr/lib/python3.6/multiprocessing/connection.py\u001b[0m in \u001b[0;36mpoll\u001b[0;34m(self, timeout)\u001b[0m\n\u001b[1;32m    255\u001b[0m         \u001b[0mself\u001b[0m\u001b[0;34m.\u001b[0m\u001b[0m_check_closed\u001b[0m\u001b[0;34m(\u001b[0m\u001b[0;34m)\u001b[0m\u001b[0;34m\u001b[0m\u001b[0;34m\u001b[0m\u001b[0m\n\u001b[1;32m    256\u001b[0m         \u001b[0mself\u001b[0m\u001b[0;34m.\u001b[0m\u001b[0m_check_readable\u001b[0m\u001b[0;34m(\u001b[0m\u001b[0;34m)\u001b[0m\u001b[0;34m\u001b[0m\u001b[0;34m\u001b[0m\u001b[0m\n\u001b[0;32m--> 257\u001b[0;31m         \u001b[0;32mreturn\u001b[0m \u001b[0mself\u001b[0m\u001b[0;34m.\u001b[0m\u001b[0m_poll\u001b[0m\u001b[0;34m(\u001b[0m\u001b[0mtimeout\u001b[0m\u001b[0;34m)\u001b[0m\u001b[0;34m\u001b[0m\u001b[0;34m\u001b[0m\u001b[0m\n\u001b[0m\u001b[1;32m    258\u001b[0m \u001b[0;34m\u001b[0m\u001b[0m\n\u001b[1;32m    259\u001b[0m     \u001b[0;32mdef\u001b[0m \u001b[0m__enter__\u001b[0m\u001b[0;34m(\u001b[0m\u001b[0mself\u001b[0m\u001b[0;34m)\u001b[0m\u001b[0;34m:\u001b[0m\u001b[0;34m\u001b[0m\u001b[0;34m\u001b[0m\u001b[0m\n",
      "\u001b[0;32m/usr/lib/python3.6/multiprocessing/connection.py\u001b[0m in \u001b[0;36m_poll\u001b[0;34m(self, timeout)\u001b[0m\n\u001b[1;32m    412\u001b[0m \u001b[0;34m\u001b[0m\u001b[0m\n\u001b[1;32m    413\u001b[0m     \u001b[0;32mdef\u001b[0m \u001b[0m_poll\u001b[0m\u001b[0;34m(\u001b[0m\u001b[0mself\u001b[0m\u001b[0;34m,\u001b[0m \u001b[0mtimeout\u001b[0m\u001b[0;34m)\u001b[0m\u001b[0;34m:\u001b[0m\u001b[0;34m\u001b[0m\u001b[0;34m\u001b[0m\u001b[0m\n\u001b[0;32m--> 414\u001b[0;31m         \u001b[0mr\u001b[0m \u001b[0;34m=\u001b[0m \u001b[0mwait\u001b[0m\u001b[0;34m(\u001b[0m\u001b[0;34m[\u001b[0m\u001b[0mself\u001b[0m\u001b[0;34m]\u001b[0m\u001b[0;34m,\u001b[0m \u001b[0mtimeout\u001b[0m\u001b[0;34m)\u001b[0m\u001b[0;34m\u001b[0m\u001b[0;34m\u001b[0m\u001b[0m\n\u001b[0m\u001b[1;32m    415\u001b[0m         \u001b[0;32mreturn\u001b[0m \u001b[0mbool\u001b[0m\u001b[0;34m(\u001b[0m\u001b[0mr\u001b[0m\u001b[0;34m)\u001b[0m\u001b[0;34m\u001b[0m\u001b[0;34m\u001b[0m\u001b[0m\n\u001b[1;32m    416\u001b[0m \u001b[0;34m\u001b[0m\u001b[0m\n",
      "\u001b[0;32m/usr/lib/python3.6/multiprocessing/connection.py\u001b[0m in \u001b[0;36mwait\u001b[0;34m(object_list, timeout)\u001b[0m\n\u001b[1;32m    909\u001b[0m \u001b[0;34m\u001b[0m\u001b[0m\n\u001b[1;32m    910\u001b[0m             \u001b[0;32mwhile\u001b[0m \u001b[0;32mTrue\u001b[0m\u001b[0;34m:\u001b[0m\u001b[0;34m\u001b[0m\u001b[0;34m\u001b[0m\u001b[0m\n\u001b[0;32m--> 911\u001b[0;31m                 \u001b[0mready\u001b[0m \u001b[0;34m=\u001b[0m \u001b[0mselector\u001b[0m\u001b[0;34m.\u001b[0m\u001b[0mselect\u001b[0m\u001b[0;34m(\u001b[0m\u001b[0mtimeout\u001b[0m\u001b[0;34m)\u001b[0m\u001b[0;34m\u001b[0m\u001b[0;34m\u001b[0m\u001b[0m\n\u001b[0m\u001b[1;32m    912\u001b[0m                 \u001b[0;32mif\u001b[0m \u001b[0mready\u001b[0m\u001b[0;34m:\u001b[0m\u001b[0;34m\u001b[0m\u001b[0;34m\u001b[0m\u001b[0m\n\u001b[1;32m    913\u001b[0m                     \u001b[0;32mreturn\u001b[0m \u001b[0;34m[\u001b[0m\u001b[0mkey\u001b[0m\u001b[0;34m.\u001b[0m\u001b[0mfileobj\u001b[0m \u001b[0;32mfor\u001b[0m \u001b[0;34m(\u001b[0m\u001b[0mkey\u001b[0m\u001b[0;34m,\u001b[0m \u001b[0mevents\u001b[0m\u001b[0;34m)\u001b[0m \u001b[0;32min\u001b[0m \u001b[0mready\u001b[0m\u001b[0;34m]\u001b[0m\u001b[0;34m\u001b[0m\u001b[0;34m\u001b[0m\u001b[0m\n",
      "\u001b[0;32m/usr/lib/python3.6/selectors.py\u001b[0m in \u001b[0;36mselect\u001b[0;34m(self, timeout)\u001b[0m\n\u001b[1;32m    374\u001b[0m             \u001b[0mready\u001b[0m \u001b[0;34m=\u001b[0m \u001b[0;34m[\u001b[0m\u001b[0;34m]\u001b[0m\u001b[0;34m\u001b[0m\u001b[0;34m\u001b[0m\u001b[0m\n\u001b[1;32m    375\u001b[0m             \u001b[0;32mtry\u001b[0m\u001b[0;34m:\u001b[0m\u001b[0;34m\u001b[0m\u001b[0;34m\u001b[0m\u001b[0m\n\u001b[0;32m--> 376\u001b[0;31m                 \u001b[0mfd_event_list\u001b[0m \u001b[0;34m=\u001b[0m \u001b[0mself\u001b[0m\u001b[0;34m.\u001b[0m\u001b[0m_poll\u001b[0m\u001b[0;34m.\u001b[0m\u001b[0mpoll\u001b[0m\u001b[0;34m(\u001b[0m\u001b[0mtimeout\u001b[0m\u001b[0;34m)\u001b[0m\u001b[0;34m\u001b[0m\u001b[0;34m\u001b[0m\u001b[0m\n\u001b[0m\u001b[1;32m    377\u001b[0m             \u001b[0;32mexcept\u001b[0m \u001b[0mInterruptedError\u001b[0m\u001b[0;34m:\u001b[0m\u001b[0;34m\u001b[0m\u001b[0;34m\u001b[0m\u001b[0m\n\u001b[1;32m    378\u001b[0m                 \u001b[0;32mreturn\u001b[0m \u001b[0mready\u001b[0m\u001b[0;34m\u001b[0m\u001b[0;34m\u001b[0m\u001b[0m\n",
      "\u001b[0;31mKeyboardInterrupt\u001b[0m: "
     ]
    }
   ],
   "source": [
    "sizes = [32,64,16,128];\n",
    "for size1 in sizes:\n",
    "  for size2 in sizes:\n",
    "    # device = 'cuda' # 'cpu' if we want to not use the gpu\n",
    "    device='cuda'\n",
    "    # Initialize the model, loss, and optimization function\n",
    "    net = LegoCNN()\n",
    "    # This tells our model to send all of the tensors and operations to the GPU (or keep them at the CPU if we're not using GPU)\n",
    "    net.to(device)\n",
    "    #batch size for this run is set\n",
    "    training_batch_size = size1\n",
    "    testing_batch_size = size2\n",
    "    #creates the train and test loader for this batch_size\n",
    "    train_loader = torch.utils.data.DataLoader(\n",
    "      train_set, batch_size=training_batch_size, sampler=train_sampler, num_workers=2)\n",
    "    test_loader = torch.utils.data.DataLoader(\n",
    "      test_set, batch_size=testing_batch_size, sampler=test_sampler, num_workers=2)\n",
    "    #run the training and find accuracy for this batch size\n",
    "    runTesting(size1, size2, net, train_loader, test_loader)"
   ]
  },
  {
   "cell_type": "markdown",
   "metadata": {
    "colab_type": "text",
    "id": "eEQR1EsjBpfo"
   },
   "source": [
    "The results of this test can be summarized by the graphics below:"
   ]
  },
  {
   "cell_type": "code",
   "execution_count": 14,
   "metadata": {
    "colab": {
     "base_uri": "https://localhost:8080/",
     "height": 85
    },
    "colab_type": "code",
    "executionInfo": {
     "elapsed": 1857,
     "status": "ok",
     "timestamp": 1571274791342,
     "user": {
      "displayName": "Amy Phung",
      "photoUrl": "https://lh3.googleusercontent.com/a-/AAuE7mCX6yorBpSgkuKhPzFyyI9cUbE9dYYI5AgWp4ciUQ=s64",
      "userId": "07860558739608806016"
     },
     "user_tz": 240
    },
    "id": "wO8rV0fAvGcG",
    "outputId": "37a1f325-5038-484c-e7a4-a5a62d0c3cca"
   },
   "outputs": [
    {
     "name": "stderr",
     "output_type": "stream",
     "text": [
      "Downloading...\n",
      "From: https://drive.google.com/uc?authuser=0&id=1jLb7hAHzX8iQbOGCFjUKQ5-EzzslDi-d&export=download\n",
      "To: /content/batchResults.csv\n",
      "100%|██████████| 683/683 [00:00<00:00, 626kB/s]\n"
     ]
    }
   ],
   "source": [
    "gdown.download('https://drive.google.com/uc?authuser=0&id=1jLb7hAHzX8iQbOGCFjUKQ5-EzzslDi-d&export=download',\n",
    "             'batchResults.csv', False)\n",
    "\n",
    "batch_results = pd.read_csv('batchResults.csv')"
   ]
  },
  {
   "cell_type": "code",
   "execution_count": 15,
   "metadata": {
    "colab": {
     "base_uri": "https://localhost:8080/",
     "height": 545
    },
    "colab_type": "code",
    "executionInfo": {
     "elapsed": 1526,
     "status": "ok",
     "timestamp": 1571274791344,
     "user": {
      "displayName": "Amy Phung",
      "photoUrl": "https://lh3.googleusercontent.com/a-/AAuE7mCX6yorBpSgkuKhPzFyyI9cUbE9dYYI5AgWp4ciUQ=s64",
      "userId": "07860558739608806016"
     },
     "user_tz": 240
    },
    "id": "h-wWrHp4CJMW",
    "outputId": "d299af13-99bd-4cf2-8418-c7bae44b8fc4"
   },
   "outputs": [
    {
     "data": {
      "text/html": [
       "<div>\n",
       "<style scoped>\n",
       "    .dataframe tbody tr th:only-of-type {\n",
       "        vertical-align: middle;\n",
       "    }\n",
       "\n",
       "    .dataframe tbody tr th {\n",
       "        vertical-align: top;\n",
       "    }\n",
       "\n",
       "    .dataframe thead th {\n",
       "        text-align: right;\n",
       "    }\n",
       "</style>\n",
       "<table border=\"1\" class=\"dataframe\">\n",
       "  <thead>\n",
       "    <tr style=\"text-align: right;\">\n",
       "      <th></th>\n",
       "      <th>Train SIze</th>\n",
       "      <th>Test Size</th>\n",
       "      <th>Time</th>\n",
       "      <th>Train Accuracy</th>\n",
       "      <th>Test Accuracy</th>\n",
       "    </tr>\n",
       "  </thead>\n",
       "  <tbody>\n",
       "    <tr>\n",
       "      <th>0</th>\n",
       "      <td>16</td>\n",
       "      <td>16</td>\n",
       "      <td>64.07</td>\n",
       "      <td>0.774688</td>\n",
       "      <td>0.744681</td>\n",
       "    </tr>\n",
       "    <tr>\n",
       "      <th>1</th>\n",
       "      <td>32</td>\n",
       "      <td>32</td>\n",
       "      <td>60.89</td>\n",
       "      <td>0.731783</td>\n",
       "      <td>0.721884</td>\n",
       "    </tr>\n",
       "    <tr>\n",
       "      <th>2</th>\n",
       "      <td>64</td>\n",
       "      <td>32</td>\n",
       "      <td>59.87</td>\n",
       "      <td>0.761985</td>\n",
       "      <td>0.714286</td>\n",
       "    </tr>\n",
       "    <tr>\n",
       "      <th>3</th>\n",
       "      <td>32</td>\n",
       "      <td>64</td>\n",
       "      <td>62.18</td>\n",
       "      <td>0.755992</td>\n",
       "      <td>0.706687</td>\n",
       "    </tr>\n",
       "    <tr>\n",
       "      <th>4</th>\n",
       "      <td>16</td>\n",
       "      <td>64</td>\n",
       "      <td>64.06</td>\n",
       "      <td>0.741850</td>\n",
       "      <td>0.683891</td>\n",
       "    </tr>\n",
       "    <tr>\n",
       "      <th>5</th>\n",
       "      <td>64</td>\n",
       "      <td>128</td>\n",
       "      <td>61.25</td>\n",
       "      <td>0.710930</td>\n",
       "      <td>0.662614</td>\n",
       "    </tr>\n",
       "    <tr>\n",
       "      <th>6</th>\n",
       "      <td>64</td>\n",
       "      <td>16</td>\n",
       "      <td>61.18</td>\n",
       "      <td>0.697028</td>\n",
       "      <td>0.661094</td>\n",
       "    </tr>\n",
       "    <tr>\n",
       "      <th>7</th>\n",
       "      <td>16</td>\n",
       "      <td>128</td>\n",
       "      <td>64.09</td>\n",
       "      <td>0.682886</td>\n",
       "      <td>0.653495</td>\n",
       "    </tr>\n",
       "    <tr>\n",
       "      <th>8</th>\n",
       "      <td>32</td>\n",
       "      <td>16</td>\n",
       "      <td>61.35</td>\n",
       "      <td>0.705896</td>\n",
       "      <td>0.645897</td>\n",
       "    </tr>\n",
       "    <tr>\n",
       "      <th>9</th>\n",
       "      <td>32</td>\n",
       "      <td>128</td>\n",
       "      <td>60.74</td>\n",
       "      <td>0.739693</td>\n",
       "      <td>0.636778</td>\n",
       "    </tr>\n",
       "    <tr>\n",
       "      <th>10</th>\n",
       "      <td>128</td>\n",
       "      <td>128</td>\n",
       "      <td>60.73</td>\n",
       "      <td>0.628236</td>\n",
       "      <td>0.629179</td>\n",
       "    </tr>\n",
       "    <tr>\n",
       "      <th>11</th>\n",
       "      <td>128</td>\n",
       "      <td>64</td>\n",
       "      <td>60.97</td>\n",
       "      <td>0.695110</td>\n",
       "      <td>0.623100</td>\n",
       "    </tr>\n",
       "    <tr>\n",
       "      <th>12</th>\n",
       "      <td>64</td>\n",
       "      <td>64</td>\n",
       "      <td>60.40</td>\n",
       "      <td>0.642378</td>\n",
       "      <td>0.615502</td>\n",
       "    </tr>\n",
       "    <tr>\n",
       "      <th>13</th>\n",
       "      <td>128</td>\n",
       "      <td>16</td>\n",
       "      <td>61.04</td>\n",
       "      <td>0.655801</td>\n",
       "      <td>0.612462</td>\n",
       "    </tr>\n",
       "    <tr>\n",
       "      <th>14</th>\n",
       "      <td>16</td>\n",
       "      <td>32</td>\n",
       "      <td>63.01</td>\n",
       "      <td>0.644535</td>\n",
       "      <td>0.574468</td>\n",
       "    </tr>\n",
       "    <tr>\n",
       "      <th>15</th>\n",
       "      <td>128</td>\n",
       "      <td>32</td>\n",
       "      <td>61.07</td>\n",
       "      <td>0.536913</td>\n",
       "      <td>0.542553</td>\n",
       "    </tr>\n",
       "  </tbody>\n",
       "</table>\n",
       "</div>"
      ],
      "text/plain": [
       "    Train SIze  Test Size   Time  Train Accuracy  Test Accuracy\n",
       "0           16         16  64.07        0.774688       0.744681\n",
       "1           32         32  60.89        0.731783       0.721884\n",
       "2           64         32  59.87        0.761985       0.714286\n",
       "3           32         64  62.18        0.755992       0.706687\n",
       "4           16         64  64.06        0.741850       0.683891\n",
       "5           64        128  61.25        0.710930       0.662614\n",
       "6           64         16  61.18        0.697028       0.661094\n",
       "7           16        128  64.09        0.682886       0.653495\n",
       "8           32         16  61.35        0.705896       0.645897\n",
       "9           32        128  60.74        0.739693       0.636778\n",
       "10         128        128  60.73        0.628236       0.629179\n",
       "11         128         64  60.97        0.695110       0.623100\n",
       "12          64         64  60.40        0.642378       0.615502\n",
       "13         128         16  61.04        0.655801       0.612462\n",
       "14          16         32  63.01        0.644535       0.574468\n",
       "15         128         32  61.07        0.536913       0.542553"
      ]
     },
     "execution_count": 15,
     "metadata": {
      "tags": []
     },
     "output_type": "execute_result"
    }
   ],
   "source": [
    "batch_results"
   ]
  },
  {
   "cell_type": "code",
   "execution_count": 16,
   "metadata": {
    "colab": {
     "base_uri": "https://localhost:8080/",
     "height": 295
    },
    "colab_type": "code",
    "executionInfo": {
     "elapsed": 1897,
     "status": "ok",
     "timestamp": 1571274792754,
     "user": {
      "displayName": "Amy Phung",
      "photoUrl": "https://lh3.googleusercontent.com/a-/AAuE7mCX6yorBpSgkuKhPzFyyI9cUbE9dYYI5AgWp4ciUQ=s64",
      "userId": "07860558739608806016"
     },
     "user_tz": 240
    },
    "id": "HR6pHcDwCnY8",
    "outputId": "39d77d39-1d35-4962-9757-602bc183d102"
   },
   "outputs": [
    {
     "data": {
      "image/png": "[encoded data removed]",
      "text/plain": [
       "<Figure size 432x288 with 1 Axes>"
      ]
     },
     "metadata": {
      "tags": []
     },
     "output_type": "display_data"
    }
   ],
   "source": [
    "import matplotlib.tri as tri\n",
    "import matplotlib.pyplot as plt\n",
    "\n",
    "x = batch_results['Train SIze']\n",
    "y = batch_results['Test Size']\n",
    "z = batch_results['Test Accuracy']\n",
    "\n",
    "plt.tricontour(x, y, z, 15, linewidths=0.5, colors='k')\n",
    "plt.tricontourf(x, y, z, 15)\n",
    "\n",
    "plt.xlabel(\"Train Batch Size\")\n",
    "plt.ylabel(\"Test Batch Size\")\n",
    "plt.title(\"Test Accuracy\")\n",
    "plt.axis('equal')\n",
    "\n",
    "plt.show()"
   ]
  },
  {
   "cell_type": "markdown",
   "metadata": {
    "colab_type": "text",
    "id": "XmJ6kyOr9tlg"
   },
   "source": [
    "In general, we found that lower batch sizes were better and that the test batch size should be equal to or larger than the train batch size for good results. Separately, when we tested lower batch sizes than 16, the results became much poorer, so we stuck to testing numbers larger than 16"
   ]
  },
  {
   "cell_type": "markdown",
   "metadata": {
    "colab_type": "text",
    "id": "iwFEuBXmKgoK"
   },
   "source": [
    "### Adding in photos outside of defined classes"
   ]
  },
  {
   "cell_type": "markdown",
   "metadata": {
    "colab_type": "text",
    "id": "WS5W3bUjKrJF"
   },
   "source": [
    "Another thing we found interesting to explore was adding in our own photos that we didn't have training data for and seeing what it would be classified as. Interestingly enough, we found that our net classified those legos in a similar way we would've if we didn't know about that particular lego brick. "
   ]
  },
  {
   "cell_type": "markdown",
   "metadata": {
    "colab_type": "text",
    "id": "1qvZ0tksQNUN"
   },
   "source": [
    "#### Setup Code"
   ]
  },
  {
   "cell_type": "code",
   "execution_count": 17,
   "metadata": {
    "colab": {
     "base_uri": "https://localhost:8080/",
     "height": 85
    },
    "colab_type": "code",
    "executionInfo": {
     "elapsed": 4530,
     "status": "ok",
     "timestamp": 1571274813201,
     "user": {
      "displayName": "Amy Phung",
      "photoUrl": "https://lh3.googleusercontent.com/a-/AAuE7mCX6yorBpSgkuKhPzFyyI9cUbE9dYYI5AgWp4ciUQ=s64",
      "userId": "07860558739608806016"
     },
     "user_tz": 240
    },
    "id": "NdYPy8SnLUlo",
    "outputId": "355fc139-9011-443d-cf4c-7bc750876cdd"
   },
   "outputs": [
    {
     "name": "stderr",
     "output_type": "stream",
     "text": [
      "Downloading...\n",
      "From: https://drive.google.com/uc?authuser=0&id=1FKDwwIL1OHU05TM3AcWBCBARsPSLcDIa&export=download\n",
      "To: /content/testset2.zip\n",
      "8.01MB [00:00, 19.7MB/s]\n"
     ]
    }
   ],
   "source": [
    "gdown.download('https://drive.google.com/uc?authuser=0&id=1FKDwwIL1OHU05TM3AcWBCBARsPSLcDIa&export=download', \n",
    "               'testset2.zip', False)\n",
    "\n",
    "gdown.download('https://drive.google.com/uc?authuser=0&id=1xclKETN0xB-wLZvhiacRIC6GYtgysCVg&export=download',\n",
    "             'testset2.csv', True)\n",
    "custom_set_key = pd.read_csv('testset2.csv')"
   ]
  },
  {
   "cell_type": "code",
   "execution_count": 0,
   "metadata": {
    "colab": {},
    "colab_type": "code",
    "collapsed": true,
    "id": "abWYNt-bQLsB"
   },
   "outputs": [],
   "source": [
    "! mkdir custom_set\n",
    "! cd custom_set && unzip -qq -o ../testset2.zip"
   ]
  },
  {
   "cell_type": "code",
   "execution_count": 0,
   "metadata": {
    "colab": {},
    "colab_type": "code",
    "collapsed": true,
    "id": "grtm7dKWQU26"
   },
   "outputs": [],
   "source": [
    "custom_filepath_list = glob(\"custom_set/*.jpg\")\n",
    "\n",
    "transform = transforms.Compose([transforms.CenterCrop((2000,2000)), # Crop center of image\n",
    "                                 transforms.Resize((32,32)), # Downsample image\n",
    "                                 transforms.ToTensor()])     # Make pytorch happy\n",
    "new_filepath_list = glob(\"custom_set/*.jpg\")\n",
    "\n",
    "new_set = LegoData(new_filepath_list, custom_set_key, transform) "
   ]
  },
  {
   "cell_type": "markdown",
   "metadata": {
    "colab_type": "text",
    "id": "kv7a0sq0VIcj"
   },
   "source": [
    "#### Categorization Testing"
   ]
  },
  {
   "cell_type": "markdown",
   "metadata": {
    "colab_type": "text",
    "id": "slbRvbXdXRpH"
   },
   "source": []
  },
  {
   "cell_type": "code",
   "execution_count": 60,
   "metadata": {
    "colab": {
     "base_uri": "https://localhost:8080/",
     "height": 315
    },
    "colab_type": "code",
    "executionInfo": {
     "elapsed": 801,
     "status": "ok",
     "timestamp": 1571275052953,
     "user": {
      "displayName": "Amy Phung",
      "photoUrl": "https://lh3.googleusercontent.com/a-/AAuE7mCX6yorBpSgkuKhPzFyyI9cUbE9dYYI5AgWp4ciUQ=s64",
      "userId": "07860558739608806016"
     },
     "user_tz": 240
    },
    "id": "S4-an0F1VWfL",
    "outputId": "b5652690-3f13-4667-84c9-984b50904121"
   },
   "outputs": [
    {
     "name": "stdout",
     "output_type": "stream",
     "text": [
      "[[-0.27830082 -0.7879545  -1.1564515  -1.2801139   0.3287684   0.35474527]]\n",
      "['2x2 L' '1x4' '1x1' '2x2' '2x3' '1x2']\n"
     ]
    },
    {
     "data": {
      "image/png": "[encoded data removed]",
      "text/plain": [
       "<Figure size 432x288 with 1 Axes>"
      ]
     },
     "metadata": {
      "tags": []
     },
     "output_type": "display_data"
    }
   ],
   "source": [
    "examine_label(6, new_set) # Can put any valid index here"
   ]
  },
  {
   "cell_type": "markdown",
   "metadata": {
    "colab_type": "text",
    "id": "O-iR_ViFTMKn"
   },
   "source": [
    "### Activation Gradients"
   ]
  },
  {
   "cell_type": "code",
   "execution_count": 0,
   "metadata": {
    "colab": {},
    "colab_type": "code",
    "collapsed": true,
    "id": "s048s63_TLXx"
   },
   "outputs": [],
   "source": [
    "# Visualize feature maps\n",
    "activation = {}\n",
    "def get_activation(name):\n",
    "    def hook(model, input, output):\n",
    "        activation[name] = output.detach()\n",
    "    return hook"
   ]
  },
  {
   "cell_type": "code",
   "execution_count": 83,
   "metadata": {
    "colab": {
     "base_uri": "https://localhost:8080/",
     "height": 194
    },
    "colab_type": "code",
    "executionInfo": {
     "elapsed": 4202,
     "status": "ok",
     "timestamp": 1571276016096,
     "user": {
      "displayName": "Amy Phung",
      "photoUrl": "https://lh3.googleusercontent.com/a-/AAuE7mCX6yorBpSgkuKhPzFyyI9cUbE9dYYI5AgWp4ciUQ=s64",
      "userId": "07860558739608806016"
     },
     "user_tz": 240
    },
    "id": "q4prujrCTTzh",
    "outputId": "ebd77fe4-ef50-44ae-ab1e-db4ec2387a05"
   },
   "outputs": [
    {
     "name": "stderr",
     "output_type": "stream",
     "text": [
      "/usr/local/lib/python3.6/dist-packages/ipykernel_launcher.py:6: UserWarning: To copy construct from a tensor, it is recommended to use sourceTensor.clone().detach() or sourceTensor.clone().detach().requires_grad_(True), rather than torch.tensor(sourceTensor).\n",
      "  \n"
     ]
    },
    {
     "data": {
      "image/png": "[encoded data removed]",
      "text/plain": [
       "<Figure size 2160x1440 with 16 Axes>"
      ]
     },
     "metadata": {
      "tags": []
     },
     "output_type": "display_data"
    }
   ],
   "source": [
    "net.conv1.register_forward_hook(get_activation('conv1'))\n",
    "data, _ = train_set[0]\n",
    "data.unsqueeze_(0)\n",
    "# print(type(data))\n",
    "device = \"cuda\"\n",
    "data = torch.tensor(data, device=device)\n",
    "output = net(data)\n",
    "\n",
    "act = activation['conv1'].squeeze()\n",
    "fig, axarr = plt.subplots(1,act.size(0))\n",
    "# fig = matplotlib.pyplot.gcf()\n",
    "fig.set_size_inches(30, 20)\n",
    "for idx in range(act.size(0)):\n",
    "    axarr[idx].imshow(act[idx].cpu())"
   ]
  },
  {
   "cell_type": "markdown",
   "metadata": {
    "colab_type": "text",
    "id": "dUmhsI1hxSLB"
   },
   "source": [
    "# Results\n",
    "Overall, our results were rather promising. Our models often had around a 70-75% training accuracy and a 65-70% testing accuracy, with our best model having an 80% training accuracy and a 75% testing accuracy. "
   ]
  },
  {
   "cell_type": "markdown",
   "metadata": {
    "colab_type": "text",
    "id": "dGYzYv-fyv4x"
   },
   "source": [
    "The code below trains a new model based on our input parameters and computes the train and test accuracy. A graph of our loss is also included below."
   ]
  },
  {
   "cell_type": "code",
   "execution_count": 0,
   "metadata": {
    "colab": {
     "base_uri": "https://localhost:8080/",
     "height": 1000
    },
    "colab_type": "code",
    "executionInfo": {
     "elapsed": 86705,
     "status": "ok",
     "timestamp": 1571260297183,
     "user": {
      "displayName": "Amy Phung",
      "photoUrl": "https://lh3.googleusercontent.com/a-/AAuE7mCX6yorBpSgkuKhPzFyyI9cUbE9dYYI5AgWp4ciUQ=s64",
      "userId": "07860558739608806016"
     },
     "user_tz": 240
    },
    "id": "CnNgrGUTxwqr",
    "outputId": "5788ea2b-e47b-4204-c08f-968ff13b32c4"
   },
   "outputs": [
    {
     "name": "stdout",
     "output_type": "stream",
     "text": [
      "Train size: 16\n",
      "Test size: 16\n",
      "Epoch 1, Iteration 20\t train_loss: 2.09 took: 1.50s\n",
      "Epoch 1, Iteration 40\t train_loss: 1.79 took: 1.42s\n",
      "Epoch 1, Iteration 60\t train_loss: 1.75 took: 1.37s\n",
      "Epoch 1, Iteration 80\t train_loss: 1.77 took: 1.45s\n",
      "Epoch 1, Iteration 100\t train_loss: 1.65 took: 1.43s\n",
      "Epoch 1, Iteration 120\t train_loss: 1.60 took: 1.40s\n",
      "Epoch 1, Iteration 140\t train_loss: 1.39 took: 1.47s\n",
      "Epoch 1, Iteration 160\t train_loss: 1.27 took: 1.41s\n",
      "Epoch 1, Iteration 180\t train_loss: 1.21 took: 1.45s\n",
      "Epoch 1, Iteration 200\t train_loss: 1.26 took: 1.42s\n",
      "Epoch 1, Iteration 220\t train_loss: 1.23 took: 1.41s\n",
      "Epoch 1, Iteration 240\t train_loss: 1.23 took: 1.42s\n",
      "Epoch 1, Iteration 260\t train_loss: 1.06 took: 1.44s\n",
      "Validation loss = 1.02\n",
      "Epoch 2, Iteration 20\t train_loss: 1.01 took: 1.52s\n",
      "Epoch 2, Iteration 40\t train_loss: 1.04 took: 1.47s\n",
      "Epoch 2, Iteration 60\t train_loss: 1.10 took: 1.45s\n",
      "Epoch 2, Iteration 80\t train_loss: 1.00 took: 1.40s\n",
      "Epoch 2, Iteration 100\t train_loss: 0.88 took: 1.44s\n",
      "Epoch 2, Iteration 120\t train_loss: 0.82 took: 1.48s\n",
      "Epoch 2, Iteration 140\t train_loss: 0.78 took: 1.38s\n",
      "Epoch 2, Iteration 160\t train_loss: 0.88 took: 1.41s\n",
      "Epoch 2, Iteration 180\t train_loss: 0.96 took: 1.44s\n",
      "Epoch 2, Iteration 200\t train_loss: 1.02 took: 1.36s\n",
      "Epoch 2, Iteration 220\t train_loss: 0.99 took: 1.45s\n",
      "Epoch 2, Iteration 240\t train_loss: 0.88 took: 1.43s\n",
      "Epoch 2, Iteration 260\t train_loss: 0.73 took: 1.36s\n",
      "Validation loss = 0.82\n",
      "Epoch 3, Iteration 20\t train_loss: 0.81 took: 1.57s\n",
      "Epoch 3, Iteration 40\t train_loss: 0.69 took: 1.41s\n",
      "Epoch 3, Iteration 60\t train_loss: 0.78 took: 1.41s\n",
      "Epoch 3, Iteration 80\t train_loss: 0.71 took: 1.46s\n",
      "Epoch 3, Iteration 100\t train_loss: 0.73 took: 1.40s\n",
      "Epoch 3, Iteration 120\t train_loss: 0.79 took: 1.43s\n",
      "Epoch 3, Iteration 140\t train_loss: 0.83 took: 1.43s\n",
      "Epoch 3, Iteration 160\t train_loss: 0.79 took: 1.39s\n",
      "Epoch 3, Iteration 180\t train_loss: 0.86 took: 1.45s\n",
      "Epoch 3, Iteration 200\t train_loss: 0.80 took: 1.36s\n",
      "Epoch 3, Iteration 220\t train_loss: 0.82 took: 1.43s\n",
      "Epoch 3, Iteration 240\t train_loss: 0.94 took: 1.39s\n",
      "Epoch 3, Iteration 260\t train_loss: 0.79 took: 1.42s\n",
      "Validation loss = 0.78\n",
      "Training finished, took 64.74s\n",
      "Train accuracy is 0.7267497603068073\n",
      "Test accuracy is 0.7051671732522796\n"
     ]
    },
    {
     "data": {
      "image/png": "[encoded data removed]",
      "text/plain": [
       "<Figure size 432x288 with 1 Axes>"
      ]
     },
     "metadata": {
      "tags": []
     },
     "output_type": "display_data"
    }
   ],
   "source": [
    "#Basic run\n",
    "#batch sizes\n",
    "training_batch_size = 16\n",
    "testing_batch_size = 16\n",
    "#set up for train and test\n",
    "train_loader = torch.utils.data.DataLoader(\n",
    "      train_set, batch_size=training_batch_size, sampler=train_sampler, num_workers=2)\n",
    "test_loader = torch.utils.data.DataLoader(\n",
    "      test_set, batch_size=testing_batch_size, sampler=test_sampler, num_workers=2) # TODO: Why the 128\n",
    "# device = 'cuda' to use gpu\n",
    "device='cuda'\n",
    "# Initialize the model, loss, and optimization function\n",
    "net = LegoCNN()\n",
    "# This tells our model to send all of the tensors and operations to the GPU (or keep them at the CPU if we're not using GPU)\n",
    "net.to(device)\n",
    "\n",
    "train_hist_x, train_loss_hist, test_hist_x, test_loss_hist = runTesting(\n",
    "    training_batch_size, testing_batch_size, net, train_loader, test_loader)\n",
    "\n",
    "plt.plot(train_hist_x,train_loss_hist)\n",
    "plt.plot(test_hist_x,test_loss_hist)\n",
    "plt.legend(['train loss', 'validation loss'])\n",
    "plt.xlabel('Batch number')\n",
    "plt.ylabel('Loss')\n",
    "plt.show()"
   ]
  },
  {
   "cell_type": "code",
   "execution_count": 0,
   "metadata": {
    "colab": {},
    "colab_type": "code",
    "collapsed": true,
    "id": "VGB04QyT2PdH"
   },
   "outputs": [],
   "source": []
  }
 ],
 "metadata": {
  "accelerator": "GPU",
  "colab": {
   "collapsed_sections": [
    "Y4QvF07G0Hs5"
   ],
   "name": "Final Report.ipynb",
   "provenance": []
  },
  "kernelspec": {
   "display_name": "Python 3",
   "language": "python",
   "name": "python3"
  },
  "language_info": {
   "codemirror_mode": {
    "name": "ipython",
    "version": 3
   },
   "file_extension": ".py",
   "mimetype": "text/x-python",
   "name": "python",
   "nbconvert_exporter": "python",
   "pygments_lexer": "ipython3",
   "version": "3.6.6"
  }
 },
 "nbformat": 4,
 "nbformat_minor": 1
}
